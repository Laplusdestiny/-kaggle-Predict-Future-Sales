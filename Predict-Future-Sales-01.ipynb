{
 "cells": [
  {
   "cell_type": "markdown",
   "metadata": {
    "toc": true
   },
   "source": [
    "<h1>Table of Contents<span class=\"tocSkip\"></span></h1>\n",
    "<div class=\"toc\"><ul class=\"toc-item\"><li><span><a href=\"#Read-data\" data-toc-modified-id=\"Read-data-1\"><span class=\"toc-item-num\">1&nbsp;&nbsp;</span>Read data</a></span><ul class=\"toc-item\"><li><span><a href=\"#翻訳\" data-toc-modified-id=\"翻訳-1.1\"><span class=\"toc-item-num\">1.1&nbsp;&nbsp;</span>翻訳</a></span></li></ul></li><li><span><a href=\"#初期データでの性能チェック\" data-toc-modified-id=\"初期データでの性能チェック-2\"><span class=\"toc-item-num\">2&nbsp;&nbsp;</span>初期データでの性能チェック</a></span><ul class=\"toc-item\"><li><span><a href=\"#データ準備\" data-toc-modified-id=\"データ準備-2.1\"><span class=\"toc-item-num\">2.1&nbsp;&nbsp;</span>データ準備</a></span></li><li><span><a href=\"#モデル学習\" data-toc-modified-id=\"モデル学習-2.2\"><span class=\"toc-item-num\">2.2&nbsp;&nbsp;</span>モデル学習</a></span></li></ul></li><li><span><a href=\"#Profile\" data-toc-modified-id=\"Profile-3\"><span class=\"toc-item-num\">3&nbsp;&nbsp;</span>Profile</a></span><ul class=\"toc-item\"><li><span><a href=\"#train\" data-toc-modified-id=\"train-3.1\"><span class=\"toc-item-num\">3.1&nbsp;&nbsp;</span>train</a></span><ul class=\"toc-item\"><li><span><a href=\"#外れ値除去\" data-toc-modified-id=\"外れ値除去-3.1.1\"><span class=\"toc-item-num\">3.1.1&nbsp;&nbsp;</span>外れ値除去</a></span><ul class=\"toc-item\"><li><span><a href=\"#item_price\" data-toc-modified-id=\"item_price-3.1.1.1\"><span class=\"toc-item-num\">3.1.1.1&nbsp;&nbsp;</span>item_price</a></span></li><li><span><a href=\"#item_cnt_day\" data-toc-modified-id=\"item_cnt_day-3.1.1.2\"><span class=\"toc-item-num\">3.1.1.2&nbsp;&nbsp;</span>item_cnt_day</a></span></li><li><span><a href=\"#date\" data-toc-modified-id=\"date-3.1.1.3\"><span class=\"toc-item-num\">3.1.1.3&nbsp;&nbsp;</span>date</a></span></li><li><span><a href=\"#item_price\" data-toc-modified-id=\"item_price-3.1.1.4\"><span class=\"toc-item-num\">3.1.1.4&nbsp;&nbsp;</span>item_price</a></span></li></ul></li></ul></li><li><span><a href=\"#items\" data-toc-modified-id=\"items-3.2\"><span class=\"toc-item-num\">3.2&nbsp;&nbsp;</span>items</a></span></li><li><span><a href=\"#shops\" data-toc-modified-id=\"shops-3.3\"><span class=\"toc-item-num\">3.3&nbsp;&nbsp;</span>shops</a></span></li><li><span><a href=\"#item_cat\" data-toc-modified-id=\"item_cat-3.4\"><span class=\"toc-item-num\">3.4&nbsp;&nbsp;</span>item_cat</a></span></li></ul></li><li><span><a href=\"#予測\" data-toc-modified-id=\"予測-4\"><span class=\"toc-item-num\">4&nbsp;&nbsp;</span>予測</a></span><ul class=\"toc-item\"><li><span><a href=\"#trainデータ\" data-toc-modified-id=\"trainデータ-4.1\"><span class=\"toc-item-num\">4.1&nbsp;&nbsp;</span>trainデータ</a></span></li><li><span><a href=\"#testデータ\" data-toc-modified-id=\"testデータ-4.2\"><span class=\"toc-item-num\">4.2&nbsp;&nbsp;</span>testデータ</a></span></li><li><span><a href=\"#予測\" data-toc-modified-id=\"予測-4.3\"><span class=\"toc-item-num\">4.3&nbsp;&nbsp;</span>予測</a></span></li><li><span><a href=\"#xgboost\" data-toc-modified-id=\"xgboost-4.4\"><span class=\"toc-item-num\">4.4&nbsp;&nbsp;</span>xgboost</a></span></li></ul></li></ul></div>"
   ]
  },
  {
   "cell_type": "code",
   "execution_count": 1,
   "metadata": {
    "ExecuteTime": {
     "end_time": "2020-05-13T09:46:37.578344Z",
     "start_time": "2020-05-13T09:46:37.566209Z"
    }
   },
   "outputs": [],
   "source": [
    "%load_ext autoreload\n",
    "%autoreload 2"
   ]
  },
  {
   "cell_type": "code",
   "execution_count": 2,
   "metadata": {
    "ExecuteTime": {
     "end_time": "2020-05-13T09:46:40.226422Z",
     "start_time": "2020-05-13T09:46:38.699979Z"
    }
   },
   "outputs": [
    {
     "name": "stderr",
     "output_type": "stream",
     "text": [
      "/home/sumito/.local/share/virtualenvs/work-xfIEOHhD/lib/python3.6/site-packages/ipykernel_launcher.py:3: TqdmExperimentalWarning: Using `tqdm.autonotebook.tqdm` in notebook mode. Use `tqdm.tqdm` instead to force console mode (e.g. in jupyter console)\n",
      "  This is separate from the ipykernel package so we can avoid doing imports until\n"
     ]
    },
    {
     "data": {
      "text/html": [
       "        <script type=\"text/javascript\">\n",
       "        window.PlotlyConfig = {MathJaxConfig: 'local'};\n",
       "        if (window.MathJax) {MathJax.Hub.Config({SVG: {font: \"STIX-Web\"}});}\n",
       "        if (typeof require !== 'undefined') {\n",
       "        require.undef(\"plotly\");\n",
       "        requirejs.config({\n",
       "            paths: {\n",
       "                'plotly': ['https://cdn.plot.ly/plotly-latest.min']\n",
       "            }\n",
       "        });\n",
       "        require(['plotly'], function(Plotly) {\n",
       "            window._Plotly = Plotly;\n",
       "        });\n",
       "        }\n",
       "        </script>\n",
       "        "
      ]
     },
     "metadata": {},
     "output_type": "display_data"
    }
   ],
   "source": [
    "import pandas as pd\n",
    "from pathlib import Path\n",
    "from tqdm.autonotebook import tqdm\n",
    "import pandas_profiling as pd_pro\n",
    "import cufflinks as cf; cf.go_offline()\n",
    "from googletrans import Translator\n",
    "from copy import deepcopy as copy\n",
    "import datetime\n",
    "import math"
   ]
  },
  {
   "cell_type": "markdown",
   "metadata": {},
   "source": [
    "https://www.kaggle.com/c/competitive-data-science-predict-future-sales\n",
    "\n",
    "2013/1 ~ 2015/10までの学習データを使って2015/11の店毎/アイテム毎の月の販売数を予測する"
   ]
  },
  {
   "cell_type": "markdown",
   "metadata": {},
   "source": [
    "# Read data"
   ]
  },
  {
   "cell_type": "code",
   "execution_count": 3,
   "metadata": {
    "ExecuteTime": {
     "end_time": "2020-05-13T09:46:41.662405Z",
     "start_time": "2020-05-13T09:46:41.635774Z"
    }
   },
   "outputs": [
    {
     "data": {
      "text/plain": [
       "[PosixPath('data/shops.csv'),\n",
       " PosixPath('data/item_categories.csv'),\n",
       " PosixPath('data/sample_submission.csv'),\n",
       " PosixPath('data/items.csv'),\n",
       " PosixPath('data/test.csv'),\n",
       " PosixPath('data/sales_train.csv')]"
      ]
     },
     "execution_count": 3,
     "metadata": {},
     "output_type": "execute_result"
    }
   ],
   "source": [
    "filelist = list(Path(\"data\").glob(\"*.csv\"))\n",
    "filelist"
   ]
  },
  {
   "cell_type": "markdown",
   "metadata": {},
   "source": [
    "**File descriptions**\n",
    "- sales_train.csv - the training set. Daily historical data from January 2013 to October 2015.\n",
    "- test.csv - the test set. You need to forecast the sales for these shops and products for November 2015.\n",
    "- sample_submission.csv - a sample submission file in the correct format.\n",
    "- items.csv - supplemental information about the items/products.\n",
    "- item_categories.csv  - supplemental information about the items categories.\n",
    "- shops.csv- supplemental information about the shops.\n",
    "\n",
    "**Data fields**\n",
    "- ID - an Id that represents a (Shop, Item) tuple within the test set\n",
    "- shop_id - unique identifier of a shop\n",
    "- item_id - unique identifier of a product\n",
    "- item_category_id - unique identifier of item category\n",
    "- item_cnt_day - number of products sold. You are predicting a monthly amount of this measure\n",
    "- item_price - current price of an item\n",
    "- date - date in format dd/mm/yyyy\n",
    "- date_block_num - a consecutive month number, used for convenience. January 2013 is 0, February 2013 is 1,..., October 2015 is 33\n",
    "- item_name - name of item\n",
    "- shop_name - name of shop\n",
    "- item_category_name - name of item category\n",
    "\n",
    "[Data](https://www.kaggle.com/c/competitive-data-science-predict-future-sales/data)"
   ]
  },
  {
   "cell_type": "code",
   "execution_count": 4,
   "metadata": {
    "ExecuteTime": {
     "end_time": "2020-05-13T09:46:44.163659Z",
     "start_time": "2020-05-13T09:46:42.837601Z"
    }
   },
   "outputs": [],
   "source": [
    "data = {\n",
    "    \"train\": pd.read_csv(\"data/sales_train.csv\", parse_dates=[0]),\n",
    "    \"test\": pd.read_csv(\"data/test.csv\"),\n",
    "    \"shops\": pd.read_csv(\"data/shops.csv\"),\n",
    "    \"items\": pd.read_csv(\"data/items.csv\"),\n",
    "    \"item_cat\": pd.read_csv(\"data/item_categories.csv\"),\n",
    "    \"sample\": pd.read_csv(\"data/sample_submission.csv\")\n",
    "}"
   ]
  },
  {
   "cell_type": "code",
   "execution_count": 6,
   "metadata": {
    "ExecuteTime": {
     "end_time": "2020-05-10T08:14:03.369195Z",
     "start_time": "2020-05-10T08:14:03.287541Z"
    },
    "scrolled": true
   },
   "outputs": [
    {
     "name": "stdout",
     "output_type": "stream",
     "text": [
      "train\n"
     ]
    },
    {
     "data": {
      "text/html": [
       "<div>\n",
       "<style scoped>\n",
       "    .dataframe tbody tr th:only-of-type {\n",
       "        vertical-align: middle;\n",
       "    }\n",
       "\n",
       "    .dataframe tbody tr th {\n",
       "        vertical-align: top;\n",
       "    }\n",
       "\n",
       "    .dataframe thead th {\n",
       "        text-align: right;\n",
       "    }\n",
       "</style>\n",
       "<table border=\"1\" class=\"dataframe\">\n",
       "  <thead>\n",
       "    <tr style=\"text-align: right;\">\n",
       "      <th></th>\n",
       "      <th>date</th>\n",
       "      <th>date_block_num</th>\n",
       "      <th>shop_id</th>\n",
       "      <th>item_id</th>\n",
       "      <th>item_price</th>\n",
       "      <th>item_cnt_day</th>\n",
       "    </tr>\n",
       "  </thead>\n",
       "  <tbody>\n",
       "    <tr>\n",
       "      <th>0</th>\n",
       "      <td>2013-02-01</td>\n",
       "      <td>0</td>\n",
       "      <td>59</td>\n",
       "      <td>22154</td>\n",
       "      <td>999.00</td>\n",
       "      <td>1.0</td>\n",
       "    </tr>\n",
       "    <tr>\n",
       "      <th>1</th>\n",
       "      <td>2013-03-01</td>\n",
       "      <td>0</td>\n",
       "      <td>25</td>\n",
       "      <td>2552</td>\n",
       "      <td>899.00</td>\n",
       "      <td>1.0</td>\n",
       "    </tr>\n",
       "    <tr>\n",
       "      <th>2</th>\n",
       "      <td>2013-05-01</td>\n",
       "      <td>0</td>\n",
       "      <td>25</td>\n",
       "      <td>2552</td>\n",
       "      <td>899.00</td>\n",
       "      <td>-1.0</td>\n",
       "    </tr>\n",
       "    <tr>\n",
       "      <th>3</th>\n",
       "      <td>2013-06-01</td>\n",
       "      <td>0</td>\n",
       "      <td>25</td>\n",
       "      <td>2554</td>\n",
       "      <td>1709.05</td>\n",
       "      <td>1.0</td>\n",
       "    </tr>\n",
       "    <tr>\n",
       "      <th>4</th>\n",
       "      <td>2013-01-15</td>\n",
       "      <td>0</td>\n",
       "      <td>25</td>\n",
       "      <td>2555</td>\n",
       "      <td>1099.00</td>\n",
       "      <td>1.0</td>\n",
       "    </tr>\n",
       "  </tbody>\n",
       "</table>\n",
       "</div>"
      ],
      "text/plain": [
       "        date  date_block_num  shop_id  item_id  item_price  item_cnt_day\n",
       "0 2013-02-01               0       59    22154      999.00           1.0\n",
       "1 2013-03-01               0       25     2552      899.00           1.0\n",
       "2 2013-05-01               0       25     2552      899.00          -1.0\n",
       "3 2013-06-01               0       25     2554     1709.05           1.0\n",
       "4 2013-01-15               0       25     2555     1099.00           1.0"
      ]
     },
     "metadata": {},
     "output_type": "display_data"
    },
    {
     "name": "stdout",
     "output_type": "stream",
     "text": [
      "test\n"
     ]
    },
    {
     "data": {
      "text/html": [
       "<div>\n",
       "<style scoped>\n",
       "    .dataframe tbody tr th:only-of-type {\n",
       "        vertical-align: middle;\n",
       "    }\n",
       "\n",
       "    .dataframe tbody tr th {\n",
       "        vertical-align: top;\n",
       "    }\n",
       "\n",
       "    .dataframe thead th {\n",
       "        text-align: right;\n",
       "    }\n",
       "</style>\n",
       "<table border=\"1\" class=\"dataframe\">\n",
       "  <thead>\n",
       "    <tr style=\"text-align: right;\">\n",
       "      <th></th>\n",
       "      <th>ID</th>\n",
       "      <th>shop_id</th>\n",
       "      <th>item_id</th>\n",
       "    </tr>\n",
       "  </thead>\n",
       "  <tbody>\n",
       "    <tr>\n",
       "      <th>0</th>\n",
       "      <td>0</td>\n",
       "      <td>5</td>\n",
       "      <td>5037</td>\n",
       "    </tr>\n",
       "    <tr>\n",
       "      <th>1</th>\n",
       "      <td>1</td>\n",
       "      <td>5</td>\n",
       "      <td>5320</td>\n",
       "    </tr>\n",
       "    <tr>\n",
       "      <th>2</th>\n",
       "      <td>2</td>\n",
       "      <td>5</td>\n",
       "      <td>5233</td>\n",
       "    </tr>\n",
       "    <tr>\n",
       "      <th>3</th>\n",
       "      <td>3</td>\n",
       "      <td>5</td>\n",
       "      <td>5232</td>\n",
       "    </tr>\n",
       "    <tr>\n",
       "      <th>4</th>\n",
       "      <td>4</td>\n",
       "      <td>5</td>\n",
       "      <td>5268</td>\n",
       "    </tr>\n",
       "  </tbody>\n",
       "</table>\n",
       "</div>"
      ],
      "text/plain": [
       "   ID  shop_id  item_id\n",
       "0   0        5     5037\n",
       "1   1        5     5320\n",
       "2   2        5     5233\n",
       "3   3        5     5232\n",
       "4   4        5     5268"
      ]
     },
     "metadata": {},
     "output_type": "display_data"
    },
    {
     "name": "stdout",
     "output_type": "stream",
     "text": [
      "shops\n"
     ]
    },
    {
     "data": {
      "text/html": [
       "<div>\n",
       "<style scoped>\n",
       "    .dataframe tbody tr th:only-of-type {\n",
       "        vertical-align: middle;\n",
       "    }\n",
       "\n",
       "    .dataframe tbody tr th {\n",
       "        vertical-align: top;\n",
       "    }\n",
       "\n",
       "    .dataframe thead th {\n",
       "        text-align: right;\n",
       "    }\n",
       "</style>\n",
       "<table border=\"1\" class=\"dataframe\">\n",
       "  <thead>\n",
       "    <tr style=\"text-align: right;\">\n",
       "      <th></th>\n",
       "      <th>shop_name</th>\n",
       "      <th>shop_id</th>\n",
       "    </tr>\n",
       "  </thead>\n",
       "  <tbody>\n",
       "    <tr>\n",
       "      <th>0</th>\n",
       "      <td>!Якутск Орджоникидзе, 56 фран</td>\n",
       "      <td>0</td>\n",
       "    </tr>\n",
       "    <tr>\n",
       "      <th>1</th>\n",
       "      <td>!Якутск ТЦ \"Центральный\" фран</td>\n",
       "      <td>1</td>\n",
       "    </tr>\n",
       "    <tr>\n",
       "      <th>2</th>\n",
       "      <td>Адыгея ТЦ \"Мега\"</td>\n",
       "      <td>2</td>\n",
       "    </tr>\n",
       "    <tr>\n",
       "      <th>3</th>\n",
       "      <td>Балашиха ТРК \"Октябрь-Киномир\"</td>\n",
       "      <td>3</td>\n",
       "    </tr>\n",
       "    <tr>\n",
       "      <th>4</th>\n",
       "      <td>Волжский ТЦ \"Волга Молл\"</td>\n",
       "      <td>4</td>\n",
       "    </tr>\n",
       "  </tbody>\n",
       "</table>\n",
       "</div>"
      ],
      "text/plain": [
       "                        shop_name  shop_id\n",
       "0   !Якутск Орджоникидзе, 56 фран        0\n",
       "1   !Якутск ТЦ \"Центральный\" фран        1\n",
       "2                Адыгея ТЦ \"Мега\"        2\n",
       "3  Балашиха ТРК \"Октябрь-Киномир\"        3\n",
       "4        Волжский ТЦ \"Волга Молл\"        4"
      ]
     },
     "metadata": {},
     "output_type": "display_data"
    },
    {
     "name": "stdout",
     "output_type": "stream",
     "text": [
      "items\n"
     ]
    },
    {
     "data": {
      "text/html": [
       "<div>\n",
       "<style scoped>\n",
       "    .dataframe tbody tr th:only-of-type {\n",
       "        vertical-align: middle;\n",
       "    }\n",
       "\n",
       "    .dataframe tbody tr th {\n",
       "        vertical-align: top;\n",
       "    }\n",
       "\n",
       "    .dataframe thead th {\n",
       "        text-align: right;\n",
       "    }\n",
       "</style>\n",
       "<table border=\"1\" class=\"dataframe\">\n",
       "  <thead>\n",
       "    <tr style=\"text-align: right;\">\n",
       "      <th></th>\n",
       "      <th>item_name</th>\n",
       "      <th>item_id</th>\n",
       "      <th>item_category_id</th>\n",
       "    </tr>\n",
       "  </thead>\n",
       "  <tbody>\n",
       "    <tr>\n",
       "      <th>0</th>\n",
       "      <td>! ВО ВЛАСТИ НАВАЖДЕНИЯ (ПЛАСТ.)         D</td>\n",
       "      <td>0</td>\n",
       "      <td>40</td>\n",
       "    </tr>\n",
       "    <tr>\n",
       "      <th>1</th>\n",
       "      <td>!ABBYY FineReader 12 Professional Edition Full...</td>\n",
       "      <td>1</td>\n",
       "      <td>76</td>\n",
       "    </tr>\n",
       "    <tr>\n",
       "      <th>2</th>\n",
       "      <td>***В ЛУЧАХ СЛАВЫ   (UNV)                    D</td>\n",
       "      <td>2</td>\n",
       "      <td>40</td>\n",
       "    </tr>\n",
       "    <tr>\n",
       "      <th>3</th>\n",
       "      <td>***ГОЛУБАЯ ВОЛНА  (Univ)                      D</td>\n",
       "      <td>3</td>\n",
       "      <td>40</td>\n",
       "    </tr>\n",
       "    <tr>\n",
       "      <th>4</th>\n",
       "      <td>***КОРОБКА (СТЕКЛО)                       D</td>\n",
       "      <td>4</td>\n",
       "      <td>40</td>\n",
       "    </tr>\n",
       "  </tbody>\n",
       "</table>\n",
       "</div>"
      ],
      "text/plain": [
       "                                           item_name  item_id  \\\n",
       "0          ! ВО ВЛАСТИ НАВАЖДЕНИЯ (ПЛАСТ.)         D        0   \n",
       "1  !ABBYY FineReader 12 Professional Edition Full...        1   \n",
       "2      ***В ЛУЧАХ СЛАВЫ   (UNV)                    D        2   \n",
       "3    ***ГОЛУБАЯ ВОЛНА  (Univ)                      D        3   \n",
       "4        ***КОРОБКА (СТЕКЛО)                       D        4   \n",
       "\n",
       "   item_category_id  \n",
       "0                40  \n",
       "1                76  \n",
       "2                40  \n",
       "3                40  \n",
       "4                40  "
      ]
     },
     "metadata": {},
     "output_type": "display_data"
    },
    {
     "name": "stdout",
     "output_type": "stream",
     "text": [
      "item_cat\n"
     ]
    },
    {
     "data": {
      "text/html": [
       "<div>\n",
       "<style scoped>\n",
       "    .dataframe tbody tr th:only-of-type {\n",
       "        vertical-align: middle;\n",
       "    }\n",
       "\n",
       "    .dataframe tbody tr th {\n",
       "        vertical-align: top;\n",
       "    }\n",
       "\n",
       "    .dataframe thead th {\n",
       "        text-align: right;\n",
       "    }\n",
       "</style>\n",
       "<table border=\"1\" class=\"dataframe\">\n",
       "  <thead>\n",
       "    <tr style=\"text-align: right;\">\n",
       "      <th></th>\n",
       "      <th>item_category_name</th>\n",
       "      <th>item_category_id</th>\n",
       "    </tr>\n",
       "  </thead>\n",
       "  <tbody>\n",
       "    <tr>\n",
       "      <th>0</th>\n",
       "      <td>PC - Гарнитуры/Наушники</td>\n",
       "      <td>0</td>\n",
       "    </tr>\n",
       "    <tr>\n",
       "      <th>1</th>\n",
       "      <td>Аксессуары - PS2</td>\n",
       "      <td>1</td>\n",
       "    </tr>\n",
       "    <tr>\n",
       "      <th>2</th>\n",
       "      <td>Аксессуары - PS3</td>\n",
       "      <td>2</td>\n",
       "    </tr>\n",
       "    <tr>\n",
       "      <th>3</th>\n",
       "      <td>Аксессуары - PS4</td>\n",
       "      <td>3</td>\n",
       "    </tr>\n",
       "    <tr>\n",
       "      <th>4</th>\n",
       "      <td>Аксессуары - PSP</td>\n",
       "      <td>4</td>\n",
       "    </tr>\n",
       "  </tbody>\n",
       "</table>\n",
       "</div>"
      ],
      "text/plain": [
       "        item_category_name  item_category_id\n",
       "0  PC - Гарнитуры/Наушники                 0\n",
       "1         Аксессуары - PS2                 1\n",
       "2         Аксессуары - PS3                 2\n",
       "3         Аксессуары - PS4                 3\n",
       "4         Аксессуары - PSP                 4"
      ]
     },
     "metadata": {},
     "output_type": "display_data"
    },
    {
     "name": "stdout",
     "output_type": "stream",
     "text": [
      "sample\n"
     ]
    },
    {
     "data": {
      "text/html": [
       "<div>\n",
       "<style scoped>\n",
       "    .dataframe tbody tr th:only-of-type {\n",
       "        vertical-align: middle;\n",
       "    }\n",
       "\n",
       "    .dataframe tbody tr th {\n",
       "        vertical-align: top;\n",
       "    }\n",
       "\n",
       "    .dataframe thead th {\n",
       "        text-align: right;\n",
       "    }\n",
       "</style>\n",
       "<table border=\"1\" class=\"dataframe\">\n",
       "  <thead>\n",
       "    <tr style=\"text-align: right;\">\n",
       "      <th></th>\n",
       "      <th>ID</th>\n",
       "      <th>item_cnt_month</th>\n",
       "    </tr>\n",
       "  </thead>\n",
       "  <tbody>\n",
       "    <tr>\n",
       "      <th>0</th>\n",
       "      <td>0</td>\n",
       "      <td>0.5</td>\n",
       "    </tr>\n",
       "    <tr>\n",
       "      <th>1</th>\n",
       "      <td>1</td>\n",
       "      <td>0.5</td>\n",
       "    </tr>\n",
       "    <tr>\n",
       "      <th>2</th>\n",
       "      <td>2</td>\n",
       "      <td>0.5</td>\n",
       "    </tr>\n",
       "    <tr>\n",
       "      <th>3</th>\n",
       "      <td>3</td>\n",
       "      <td>0.5</td>\n",
       "    </tr>\n",
       "    <tr>\n",
       "      <th>4</th>\n",
       "      <td>4</td>\n",
       "      <td>0.5</td>\n",
       "    </tr>\n",
       "  </tbody>\n",
       "</table>\n",
       "</div>"
      ],
      "text/plain": [
       "   ID  item_cnt_month\n",
       "0   0             0.5\n",
       "1   1             0.5\n",
       "2   2             0.5\n",
       "3   3             0.5\n",
       "4   4             0.5"
      ]
     },
     "metadata": {},
     "output_type": "display_data"
    }
   ],
   "source": [
    "for key in data.keys():\n",
    "    print(key)\n",
    "    display(data[key].head())"
   ]
  },
  {
   "cell_type": "markdown",
   "metadata": {},
   "source": [
    "## 翻訳"
   ]
  },
  {
   "cell_type": "code",
   "execution_count": 5,
   "metadata": {
    "ExecuteTime": {
     "end_time": "2020-05-11T01:56:18.806010Z",
     "start_time": "2020-05-11T01:56:18.780572Z"
    }
   },
   "outputs": [
    {
     "data": {
      "text/plain": [
       "'PC - Гарнитуры/Наушники'"
      ]
     },
     "execution_count": 5,
     "metadata": {},
     "output_type": "execute_result"
    }
   ],
   "source": [
    "s = data[\"item_cat\"][\"item_category_name\"][0]\n",
    "s"
   ]
  },
  {
   "cell_type": "code",
   "execution_count": 6,
   "metadata": {
    "ExecuteTime": {
     "end_time": "2020-05-11T01:56:20.084348Z",
     "start_time": "2020-05-11T01:56:19.589278Z"
    }
   },
   "outputs": [],
   "source": [
    "translator = Translator()\n",
    "result = translator.translate(s, dest=\"ja\")"
   ]
  },
  {
   "cell_type": "code",
   "execution_count": 7,
   "metadata": {
    "ExecuteTime": {
     "end_time": "2020-05-11T01:56:20.333849Z",
     "start_time": "2020-05-11T01:56:20.309393Z"
    }
   },
   "outputs": [
    {
     "data": {
      "text/plain": [
       "'PC  - ヘッドセット/ヘッドフォン'"
      ]
     },
     "execution_count": 7,
     "metadata": {},
     "output_type": "execute_result"
    }
   ],
   "source": [
    "result.__dict__[\"text\"]"
   ]
  },
  {
   "cell_type": "code",
   "execution_count": 10,
   "metadata": {
    "ExecuteTime": {
     "end_time": "2020-05-11T01:56:32.412560Z",
     "start_time": "2020-05-11T01:56:32.357855Z"
    }
   },
   "outputs": [],
   "source": [
    "def translate_to_ja(s):\n",
    "    translator = Translator()\n",
    "    result = translator.translate(s, dest=\"ja\")\n",
    "    return result.__dict__[\"text\"]"
   ]
  },
  {
   "cell_type": "code",
   "execution_count": 11,
   "metadata": {
    "ExecuteTime": {
     "end_time": "2020-05-11T01:57:16.599481Z",
     "start_time": "2020-05-11T01:56:32.840167Z"
    }
   },
   "outputs": [
    {
     "data": {
      "application/vnd.jupyter.widget-view+json": {
       "model_id": "104caf9a1c6745daa420a3ba38d4e95d",
       "version_major": 2,
       "version_minor": 0
      },
      "text/plain": [
       "HBox(children=(FloatProgress(value=0.0, description='translate', max=84.0, style=ProgressStyle(description_wid…"
      ]
     },
     "metadata": {},
     "output_type": "display_data"
    },
    {
     "name": "stdout",
     "output_type": "stream",
     "text": [
      "\n"
     ]
    },
    {
     "data": {
      "text/html": [
       "<div>\n",
       "<style scoped>\n",
       "    .dataframe tbody tr th:only-of-type {\n",
       "        vertical-align: middle;\n",
       "    }\n",
       "\n",
       "    .dataframe tbody tr th {\n",
       "        vertical-align: top;\n",
       "    }\n",
       "\n",
       "    .dataframe thead th {\n",
       "        text-align: right;\n",
       "    }\n",
       "</style>\n",
       "<table border=\"1\" class=\"dataframe\">\n",
       "  <thead>\n",
       "    <tr style=\"text-align: right;\">\n",
       "      <th></th>\n",
       "      <th>item_category_name</th>\n",
       "      <th>item_category_id</th>\n",
       "      <th>item_category_name_ja</th>\n",
       "    </tr>\n",
       "  </thead>\n",
       "  <tbody>\n",
       "    <tr>\n",
       "      <th>0</th>\n",
       "      <td>PC - Гарнитуры/Наушники</td>\n",
       "      <td>0</td>\n",
       "      <td>PC  - ヘッドセット/ヘッドフォン</td>\n",
       "    </tr>\n",
       "    <tr>\n",
       "      <th>1</th>\n",
       "      <td>Аксессуары - PS2</td>\n",
       "      <td>1</td>\n",
       "      <td>アクセサリー -  PS2</td>\n",
       "    </tr>\n",
       "    <tr>\n",
       "      <th>2</th>\n",
       "      <td>Аксессуары - PS3</td>\n",
       "      <td>2</td>\n",
       "      <td>アクセサリー -  PS3</td>\n",
       "    </tr>\n",
       "    <tr>\n",
       "      <th>3</th>\n",
       "      <td>Аксессуары - PS4</td>\n",
       "      <td>3</td>\n",
       "      <td>アクセサリー -  PS4</td>\n",
       "    </tr>\n",
       "    <tr>\n",
       "      <th>4</th>\n",
       "      <td>Аксессуары - PSP</td>\n",
       "      <td>4</td>\n",
       "      <td>アクセサリ -  PSP</td>\n",
       "    </tr>\n",
       "  </tbody>\n",
       "</table>\n",
       "</div>"
      ],
      "text/plain": [
       "        item_category_name  item_category_id item_category_name_ja\n",
       "0  PC - Гарнитуры/Наушники                 0   PC  - ヘッドセット/ヘッドフォン\n",
       "1         Аксессуары - PS2                 1         アクセサリー -  PS2\n",
       "2         Аксессуары - PS3                 2         アクセサリー -  PS3\n",
       "3         Аксессуары - PS4                 3         アクセサリー -  PS4\n",
       "4         Аксессуары - PSP                 4          アクセサリ -  PSP"
      ]
     },
     "execution_count": 11,
     "metadata": {},
     "output_type": "execute_result"
    }
   ],
   "source": [
    "tqdm.pandas(desc=\"translate\")\n",
    "data[\"item_cat\"][\"item_category_name_ja\"] = data[\"item_cat\"][\"item_category_name\"].progress_apply(translate_to_ja)\n",
    "data[\"item_cat\"].head()"
   ]
  },
  {
   "cell_type": "code",
   "execution_count": 10,
   "metadata": {
    "ExecuteTime": {
     "end_time": "2020-05-10T08:31:19.927084Z",
     "start_time": "2020-05-10T08:31:19.881020Z"
    }
   },
   "outputs": [
    {
     "data": {
      "text/plain": [
       "array(['PC  - ヘッドセット/ヘッドフォン', 'アクセサリー -  PS2', 'アクセサリー -  PS3',\n",
       "       'アクセサリー -  PS4', 'アクセサリ -  PSP', 'アクセサリー -  PSVITA',\n",
       "       'アクセサリー -  XBOX 360', 'アクセサリー -  XBOX ONE', 'チケット（桁）', '納品',\n",
       "       'ゲーム機 -  PS2', 'ゲームコンソール -  PS3', 'ゲーム機 -  PS4', 'ゲーム機 -  PSP',\n",
       "       'ゲーム機 -  PSVITA', 'ゲーム機 -  XBOX 360', 'ゲーム機 -  XBOX ONE',\n",
       "       'ゲーム機 - その他', 'ゲーム -  PS2', 'ゲーム -  PS3', 'ゲーム -  PS4',\n",
       "       'ゲーム -  PSP', 'ゲーム -  PSVITA', 'ゲーム -  XBOX 360',\n",
       "       'ゲーム -  XBOX ONE', 'ゲーム - ゲームのためのアクセサリー', 'ゲームアンドロイド - デジタル',\n",
       "       'ゲームMAC  - デジタル', 'ゲームPC  - 追加の出版物', 'ゲームPC  - コレクターズ・エディション',\n",
       "       'ゲームPC  - スタンダード版', 'ゲームPC  - デジタル', '支払カード（ビデオ、音楽、ゲーム）',\n",
       "       '支払カード - ライブ！', '支払カード - ライブ！ （デジタル）', '支払カード -  PSN',\n",
       "       '支払カード -  Windowsの（フィギュア）', '作品 - ブルーレイ', '作品 - ブルーレイ3D',\n",
       "       'ムービー - ブルーレイ4K', 'ムービー -  DVD', 'シネマ - コレクタ', '書籍 - アートブック、百科事典',\n",
       "       '書籍 - オーディオブック', '書籍 - オーディオブック（フィギュア）', '書籍 - オーディオブック1C',\n",
       "       '書籍 - ビジネスブックス', '書籍 - コミック、マンガ', '書籍 - コンピュータブックス',\n",
       "       '書籍 - 系統的材料1C', '書籍 - ポストカード', '書籍 - 参考文献', '書籍 - トラベルガイド',\n",
       "       '書籍 - フィクション', '書籍 - デジタル', '音楽 - 現地生産のCD', '音楽 -  CD制作会社',\n",
       "       '音楽 -  MP3', '音楽 - ビニール', '音楽 - ミュージックビデオ', '音楽 - ギフト版',\n",
       "       'ギフト - 属性', 'ギフト - ガジェット、ロボット、スポーツ', 'ギフト - ソフトおもちゃ',\n",
       "       'ギフト - ボードゲーム', 'ギフト - ゲーム（コンパクト）', 'ギフト - カード、ステッカー', 'ギフト - 開発',\n",
       "       'ギフト - 証明書、サービス', 'ギフト - お土産', 'ギフト - お土産（に秤量）',\n",
       "       'ギフト - バッグ、アルバム、マットD /マウス', 'ギフト - フィギュア', 'プログラム -  1C：エンタープライズ8',\n",
       "       'プログラム -  MAC（フィギュア）', 'プログラム - 家庭やオフィスのために',\n",
       "       'プログラム - ホーム＆オフィス（デジタル）', 'プログラム - 教育', 'プログラム - 教育（フィギュア）',\n",
       "       '[システムツール]', 'ユーティリティ - チケット', 'ネットキャリア（尖塔）', 'ネットキャリア（作品）',\n",
       "       'バッテリー'], dtype=object)"
      ]
     },
     "execution_count": 10,
     "metadata": {},
     "output_type": "execute_result"
    }
   ],
   "source": [
    "data[\"item_cat\"][\"item_category_name_ja\"].unique()"
   ]
  },
  {
   "cell_type": "markdown",
   "metadata": {},
   "source": [
    "# 初期データでの性能チェック"
   ]
  },
  {
   "cell_type": "markdown",
   "metadata": {},
   "source": [
    "## データ準備"
   ]
  },
  {
   "cell_type": "code",
   "execution_count": 7,
   "metadata": {
    "ExecuteTime": {
     "end_time": "2020-05-13T09:47:15.933915Z",
     "start_time": "2020-05-13T09:47:15.816069Z"
    },
    "scrolled": true
   },
   "outputs": [
    {
     "data": {
      "text/html": [
       "<div>\n",
       "<style scoped>\n",
       "    .dataframe tbody tr th:only-of-type {\n",
       "        vertical-align: middle;\n",
       "    }\n",
       "\n",
       "    .dataframe tbody tr th {\n",
       "        vertical-align: top;\n",
       "    }\n",
       "\n",
       "    .dataframe thead th {\n",
       "        text-align: right;\n",
       "    }\n",
       "</style>\n",
       "<table border=\"1\" class=\"dataframe\">\n",
       "  <thead>\n",
       "    <tr style=\"text-align: right;\">\n",
       "      <th></th>\n",
       "      <th>date_block_num</th>\n",
       "      <th>shop_id</th>\n",
       "      <th>item_id</th>\n",
       "      <th>item_price</th>\n",
       "      <th>item_cnt_day</th>\n",
       "    </tr>\n",
       "    <tr>\n",
       "      <th>date</th>\n",
       "      <th></th>\n",
       "      <th></th>\n",
       "      <th></th>\n",
       "      <th></th>\n",
       "      <th></th>\n",
       "    </tr>\n",
       "  </thead>\n",
       "  <tbody>\n",
       "    <tr>\n",
       "      <th>2013-02-01</th>\n",
       "      <td>0</td>\n",
       "      <td>59</td>\n",
       "      <td>22154</td>\n",
       "      <td>999.00</td>\n",
       "      <td>1.0</td>\n",
       "    </tr>\n",
       "    <tr>\n",
       "      <th>2013-03-01</th>\n",
       "      <td>0</td>\n",
       "      <td>25</td>\n",
       "      <td>2552</td>\n",
       "      <td>899.00</td>\n",
       "      <td>1.0</td>\n",
       "    </tr>\n",
       "    <tr>\n",
       "      <th>2013-05-01</th>\n",
       "      <td>0</td>\n",
       "      <td>25</td>\n",
       "      <td>2552</td>\n",
       "      <td>899.00</td>\n",
       "      <td>-1.0</td>\n",
       "    </tr>\n",
       "    <tr>\n",
       "      <th>2013-06-01</th>\n",
       "      <td>0</td>\n",
       "      <td>25</td>\n",
       "      <td>2554</td>\n",
       "      <td>1709.05</td>\n",
       "      <td>1.0</td>\n",
       "    </tr>\n",
       "    <tr>\n",
       "      <th>2013-01-15</th>\n",
       "      <td>0</td>\n",
       "      <td>25</td>\n",
       "      <td>2555</td>\n",
       "      <td>1099.00</td>\n",
       "      <td>1.0</td>\n",
       "    </tr>\n",
       "  </tbody>\n",
       "</table>\n",
       "</div>"
      ],
      "text/plain": [
       "            date_block_num  shop_id  item_id  item_price  item_cnt_day\n",
       "date                                                                  \n",
       "2013-02-01               0       59    22154      999.00           1.0\n",
       "2013-03-01               0       25     2552      899.00           1.0\n",
       "2013-05-01               0       25     2552      899.00          -1.0\n",
       "2013-06-01               0       25     2554     1709.05           1.0\n",
       "2013-01-15               0       25     2555     1099.00           1.0"
      ]
     },
     "execution_count": 7,
     "metadata": {},
     "output_type": "execute_result"
    }
   ],
   "source": [
    "train = copy(data[\"train\"])\n",
    "train = train.set_index(\"date\")\n",
    "# train[\"year\"] = train[\"date\"].apply(lambda x: x.year)\n",
    "# train[\"month\"] = train[\"date\"].apply(lambda x: x.month)\n",
    "train.head()"
   ]
  },
  {
   "cell_type": "code",
   "execution_count": 8,
   "metadata": {
    "ExecuteTime": {
     "end_time": "2020-05-13T09:47:17.751481Z",
     "start_time": "2020-05-13T09:47:16.728466Z"
    }
   },
   "outputs": [
    {
     "data": {
      "text/html": [
       "<div>\n",
       "<style scoped>\n",
       "    .dataframe tbody tr th:only-of-type {\n",
       "        vertical-align: middle;\n",
       "    }\n",
       "\n",
       "    .dataframe tbody tr th {\n",
       "        vertical-align: top;\n",
       "    }\n",
       "\n",
       "    .dataframe thead th {\n",
       "        text-align: right;\n",
       "    }\n",
       "</style>\n",
       "<table border=\"1\" class=\"dataframe\">\n",
       "  <thead>\n",
       "    <tr style=\"text-align: right;\">\n",
       "      <th></th>\n",
       "      <th>year</th>\n",
       "      <th>month</th>\n",
       "      <th>item_id</th>\n",
       "      <th>shop_id</th>\n",
       "      <th>item_cnt_month</th>\n",
       "    </tr>\n",
       "  </thead>\n",
       "  <tbody>\n",
       "    <tr>\n",
       "      <th>0</th>\n",
       "      <td>2013</td>\n",
       "      <td>1</td>\n",
       "      <td>27</td>\n",
       "      <td>5</td>\n",
       "      <td>1.0</td>\n",
       "    </tr>\n",
       "    <tr>\n",
       "      <th>1</th>\n",
       "      <td>2013</td>\n",
       "      <td>1</td>\n",
       "      <td>27</td>\n",
       "      <td>10</td>\n",
       "      <td>1.0</td>\n",
       "    </tr>\n",
       "    <tr>\n",
       "      <th>2</th>\n",
       "      <td>2013</td>\n",
       "      <td>1</td>\n",
       "      <td>27</td>\n",
       "      <td>31</td>\n",
       "      <td>1.0</td>\n",
       "    </tr>\n",
       "    <tr>\n",
       "      <th>3</th>\n",
       "      <td>2013</td>\n",
       "      <td>1</td>\n",
       "      <td>28</td>\n",
       "      <td>15</td>\n",
       "      <td>1.0</td>\n",
       "    </tr>\n",
       "    <tr>\n",
       "      <th>4</th>\n",
       "      <td>2013</td>\n",
       "      <td>1</td>\n",
       "      <td>28</td>\n",
       "      <td>19</td>\n",
       "      <td>2.0</td>\n",
       "    </tr>\n",
       "    <tr>\n",
       "      <th>...</th>\n",
       "      <td>...</td>\n",
       "      <td>...</td>\n",
       "      <td>...</td>\n",
       "      <td>...</td>\n",
       "      <td>...</td>\n",
       "    </tr>\n",
       "    <tr>\n",
       "      <th>1799390</th>\n",
       "      <td>2015</td>\n",
       "      <td>12</td>\n",
       "      <td>22167</td>\n",
       "      <td>25</td>\n",
       "      <td>1.0</td>\n",
       "    </tr>\n",
       "    <tr>\n",
       "      <th>1799391</th>\n",
       "      <td>2015</td>\n",
       "      <td>12</td>\n",
       "      <td>22167</td>\n",
       "      <td>27</td>\n",
       "      <td>1.0</td>\n",
       "    </tr>\n",
       "    <tr>\n",
       "      <th>1799392</th>\n",
       "      <td>2015</td>\n",
       "      <td>12</td>\n",
       "      <td>22167</td>\n",
       "      <td>31</td>\n",
       "      <td>1.0</td>\n",
       "    </tr>\n",
       "    <tr>\n",
       "      <th>1799393</th>\n",
       "      <td>2015</td>\n",
       "      <td>12</td>\n",
       "      <td>22167</td>\n",
       "      <td>42</td>\n",
       "      <td>1.0</td>\n",
       "    </tr>\n",
       "    <tr>\n",
       "      <th>1799394</th>\n",
       "      <td>2015</td>\n",
       "      <td>12</td>\n",
       "      <td>22167</td>\n",
       "      <td>52</td>\n",
       "      <td>1.0</td>\n",
       "    </tr>\n",
       "  </tbody>\n",
       "</table>\n",
       "<p>1799395 rows × 5 columns</p>\n",
       "</div>"
      ],
      "text/plain": [
       "         year  month  item_id  shop_id  item_cnt_month\n",
       "0        2013      1       27        5             1.0\n",
       "1        2013      1       27       10             1.0\n",
       "2        2013      1       27       31             1.0\n",
       "3        2013      1       28       15             1.0\n",
       "4        2013      1       28       19             2.0\n",
       "...       ...    ...      ...      ...             ...\n",
       "1799390  2015     12    22167       25             1.0\n",
       "1799391  2015     12    22167       27             1.0\n",
       "1799392  2015     12    22167       31             1.0\n",
       "1799393  2015     12    22167       42             1.0\n",
       "1799394  2015     12    22167       52             1.0\n",
       "\n",
       "[1799395 rows x 5 columns]"
      ]
     },
     "execution_count": 8,
     "metadata": {},
     "output_type": "execute_result"
    }
   ],
   "source": [
    "train_gb = train.groupby([train.index.year, train.index.month, \"item_id\", \"shop_id\"])[\"item_cnt_day\"].sum()\n",
    "train_gb.index.names = [\"year\", \"month\", \"item_id\", \"shop_id\"]\n",
    "train_gb = train_gb.reset_index().rename(columns={\"item_cnt_day\": \"item_cnt_month\"})\n",
    "train_gb"
   ]
  },
  {
   "cell_type": "code",
   "execution_count": 9,
   "metadata": {
    "ExecuteTime": {
     "end_time": "2020-05-13T09:47:18.012427Z",
     "start_time": "2020-05-13T09:47:17.976285Z"
    }
   },
   "outputs": [
    {
     "data": {
      "text/html": [
       "<div>\n",
       "<style scoped>\n",
       "    .dataframe tbody tr th:only-of-type {\n",
       "        vertical-align: middle;\n",
       "    }\n",
       "\n",
       "    .dataframe tbody tr th {\n",
       "        vertical-align: top;\n",
       "    }\n",
       "\n",
       "    .dataframe thead th {\n",
       "        text-align: right;\n",
       "    }\n",
       "</style>\n",
       "<table border=\"1\" class=\"dataframe\">\n",
       "  <thead>\n",
       "    <tr style=\"text-align: right;\">\n",
       "      <th></th>\n",
       "      <th>year</th>\n",
       "      <th>month</th>\n",
       "      <th>shop_id</th>\n",
       "      <th>item_id</th>\n",
       "    </tr>\n",
       "  </thead>\n",
       "  <tbody>\n",
       "    <tr>\n",
       "      <th>0</th>\n",
       "      <td>2015</td>\n",
       "      <td>11</td>\n",
       "      <td>5</td>\n",
       "      <td>5037</td>\n",
       "    </tr>\n",
       "    <tr>\n",
       "      <th>1</th>\n",
       "      <td>2015</td>\n",
       "      <td>11</td>\n",
       "      <td>5</td>\n",
       "      <td>5320</td>\n",
       "    </tr>\n",
       "    <tr>\n",
       "      <th>2</th>\n",
       "      <td>2015</td>\n",
       "      <td>11</td>\n",
       "      <td>5</td>\n",
       "      <td>5233</td>\n",
       "    </tr>\n",
       "    <tr>\n",
       "      <th>3</th>\n",
       "      <td>2015</td>\n",
       "      <td>11</td>\n",
       "      <td>5</td>\n",
       "      <td>5232</td>\n",
       "    </tr>\n",
       "    <tr>\n",
       "      <th>4</th>\n",
       "      <td>2015</td>\n",
       "      <td>11</td>\n",
       "      <td>5</td>\n",
       "      <td>5268</td>\n",
       "    </tr>\n",
       "    <tr>\n",
       "      <th>...</th>\n",
       "      <td>...</td>\n",
       "      <td>...</td>\n",
       "      <td>...</td>\n",
       "      <td>...</td>\n",
       "    </tr>\n",
       "    <tr>\n",
       "      <th>214195</th>\n",
       "      <td>2015</td>\n",
       "      <td>11</td>\n",
       "      <td>45</td>\n",
       "      <td>18454</td>\n",
       "    </tr>\n",
       "    <tr>\n",
       "      <th>214196</th>\n",
       "      <td>2015</td>\n",
       "      <td>11</td>\n",
       "      <td>45</td>\n",
       "      <td>16188</td>\n",
       "    </tr>\n",
       "    <tr>\n",
       "      <th>214197</th>\n",
       "      <td>2015</td>\n",
       "      <td>11</td>\n",
       "      <td>45</td>\n",
       "      <td>15757</td>\n",
       "    </tr>\n",
       "    <tr>\n",
       "      <th>214198</th>\n",
       "      <td>2015</td>\n",
       "      <td>11</td>\n",
       "      <td>45</td>\n",
       "      <td>19648</td>\n",
       "    </tr>\n",
       "    <tr>\n",
       "      <th>214199</th>\n",
       "      <td>2015</td>\n",
       "      <td>11</td>\n",
       "      <td>45</td>\n",
       "      <td>969</td>\n",
       "    </tr>\n",
       "  </tbody>\n",
       "</table>\n",
       "<p>214200 rows × 4 columns</p>\n",
       "</div>"
      ],
      "text/plain": [
       "        year  month  shop_id  item_id\n",
       "0       2015     11        5     5037\n",
       "1       2015     11        5     5320\n",
       "2       2015     11        5     5233\n",
       "3       2015     11        5     5232\n",
       "4       2015     11        5     5268\n",
       "...      ...    ...      ...      ...\n",
       "214195  2015     11       45    18454\n",
       "214196  2015     11       45    16188\n",
       "214197  2015     11       45    15757\n",
       "214198  2015     11       45    19648\n",
       "214199  2015     11       45      969\n",
       "\n",
       "[214200 rows x 4 columns]"
      ]
     },
     "execution_count": 9,
     "metadata": {},
     "output_type": "execute_result"
    }
   ],
   "source": [
    "test = copy(data[\"test\"])\n",
    "test.insert(loc=1, column=\"month\", value=11)\n",
    "test.insert(loc=1, column=\"year\", value=2015)\n",
    "test = test.drop(\"ID\", axis=1)\n",
    "test"
   ]
  },
  {
   "cell_type": "markdown",
   "metadata": {},
   "source": [
    "## モデル学習"
   ]
  },
  {
   "cell_type": "code",
   "execution_count": 10,
   "metadata": {
    "ExecuteTime": {
     "end_time": "2020-05-13T09:47:19.991398Z",
     "start_time": "2020-05-13T09:47:19.966647Z"
    }
   },
   "outputs": [],
   "source": [
    "from sklearn.linear_model import LinearRegression\n",
    "from sklearn.preprocessing import MinMaxScaler"
   ]
  },
  {
   "cell_type": "code",
   "execution_count": 11,
   "metadata": {
    "ExecuteTime": {
     "end_time": "2020-05-13T09:47:20.957739Z",
     "start_time": "2020-05-13T09:47:20.932212Z"
    }
   },
   "outputs": [
    {
     "name": "stdout",
     "output_type": "stream",
     "text": [
      "item_cnt_month ← ['year', 'month', 'item_id', 'shop_id']\n"
     ]
    }
   ],
   "source": [
    "target_col = \"item_cnt_month\"\n",
    "learn_col = list(train_gb.columns)\n",
    "learn_col.remove(target_col)\n",
    "print(target_col, \"←\", learn_col)"
   ]
  },
  {
   "cell_type": "code",
   "execution_count": 18,
   "metadata": {
    "ExecuteTime": {
     "end_time": "2020-05-08T08:10:30.061403Z",
     "start_time": "2020-05-08T08:10:29.976946Z"
    }
   },
   "outputs": [
    {
     "data": {
      "text/html": [
       "<div>\n",
       "<style scoped>\n",
       "    .dataframe tbody tr th:only-of-type {\n",
       "        vertical-align: middle;\n",
       "    }\n",
       "\n",
       "    .dataframe tbody tr th {\n",
       "        vertical-align: top;\n",
       "    }\n",
       "\n",
       "    .dataframe thead th {\n",
       "        text-align: right;\n",
       "    }\n",
       "</style>\n",
       "<table border=\"1\" class=\"dataframe\">\n",
       "  <thead>\n",
       "    <tr style=\"text-align: right;\">\n",
       "      <th></th>\n",
       "      <th>year</th>\n",
       "      <th>month</th>\n",
       "      <th>item_id</th>\n",
       "      <th>shop_id</th>\n",
       "    </tr>\n",
       "  </thead>\n",
       "  <tbody>\n",
       "    <tr>\n",
       "      <th>0</th>\n",
       "      <td>0.0</td>\n",
       "      <td>0.0</td>\n",
       "      <td>0.001218</td>\n",
       "      <td>0.084746</td>\n",
       "    </tr>\n",
       "    <tr>\n",
       "      <th>1</th>\n",
       "      <td>0.0</td>\n",
       "      <td>0.0</td>\n",
       "      <td>0.001218</td>\n",
       "      <td>0.169492</td>\n",
       "    </tr>\n",
       "    <tr>\n",
       "      <th>2</th>\n",
       "      <td>0.0</td>\n",
       "      <td>0.0</td>\n",
       "      <td>0.001218</td>\n",
       "      <td>0.525424</td>\n",
       "    </tr>\n",
       "    <tr>\n",
       "      <th>3</th>\n",
       "      <td>0.0</td>\n",
       "      <td>0.0</td>\n",
       "      <td>0.001263</td>\n",
       "      <td>0.254237</td>\n",
       "    </tr>\n",
       "    <tr>\n",
       "      <th>4</th>\n",
       "      <td>0.0</td>\n",
       "      <td>0.0</td>\n",
       "      <td>0.001263</td>\n",
       "      <td>0.322034</td>\n",
       "    </tr>\n",
       "  </tbody>\n",
       "</table>\n",
       "</div>"
      ],
      "text/plain": [
       "   year  month   item_id   shop_id\n",
       "0   0.0    0.0  0.001218  0.084746\n",
       "1   0.0    0.0  0.001218  0.169492\n",
       "2   0.0    0.0  0.001218  0.525424\n",
       "3   0.0    0.0  0.001263  0.254237\n",
       "4   0.0    0.0  0.001263  0.322034"
      ]
     },
     "execution_count": 18,
     "metadata": {},
     "output_type": "execute_result"
    }
   ],
   "source": [
    "train_x, train_y = train_gb[learn_col], train_gb[target_col]\n",
    "mms = MinMaxScaler()\n",
    "train_x = pd.DataFrame(mms.fit_transform(train_x), columns=train_x.columns)\n",
    "train_x.head()"
   ]
  },
  {
   "cell_type": "code",
   "execution_count": 20,
   "metadata": {
    "ExecuteTime": {
     "end_time": "2020-05-08T08:10:49.463900Z",
     "start_time": "2020-05-08T08:10:49.317481Z"
    }
   },
   "outputs": [
    {
     "data": {
      "text/plain": [
       "LinearRegression(copy_X=True, fit_intercept=True, n_jobs=None, normalize=False)"
      ]
     },
     "execution_count": 20,
     "metadata": {},
     "output_type": "execute_result"
    }
   ],
   "source": [
    "lr = LinearRegression()\n",
    "lr.fit(train_x, train_y)"
   ]
  },
  {
   "cell_type": "code",
   "execution_count": 26,
   "metadata": {
    "ExecuteTime": {
     "end_time": "2020-05-08T08:12:07.572601Z",
     "start_time": "2020-05-08T08:12:07.533895Z"
    }
   },
   "outputs": [
    {
     "data": {
      "text/html": [
       "<div>\n",
       "<style scoped>\n",
       "    .dataframe tbody tr th:only-of-type {\n",
       "        vertical-align: middle;\n",
       "    }\n",
       "\n",
       "    .dataframe tbody tr th {\n",
       "        vertical-align: top;\n",
       "    }\n",
       "\n",
       "    .dataframe thead th {\n",
       "        text-align: right;\n",
       "    }\n",
       "</style>\n",
       "<table border=\"1\" class=\"dataframe\">\n",
       "  <thead>\n",
       "    <tr style=\"text-align: right;\">\n",
       "      <th></th>\n",
       "      <th>year</th>\n",
       "      <th>month</th>\n",
       "      <th>shop_id</th>\n",
       "      <th>item_id</th>\n",
       "      <th>item_cnt_month</th>\n",
       "    </tr>\n",
       "  </thead>\n",
       "  <tbody>\n",
       "    <tr>\n",
       "      <th>0</th>\n",
       "      <td>2015</td>\n",
       "      <td>11</td>\n",
       "      <td>5</td>\n",
       "      <td>5037</td>\n",
       "      <td>5.729836</td>\n",
       "    </tr>\n",
       "    <tr>\n",
       "      <th>1</th>\n",
       "      <td>2015</td>\n",
       "      <td>11</td>\n",
       "      <td>5</td>\n",
       "      <td>5320</td>\n",
       "      <td>5.928951</td>\n",
       "    </tr>\n",
       "    <tr>\n",
       "      <th>2</th>\n",
       "      <td>2015</td>\n",
       "      <td>11</td>\n",
       "      <td>5</td>\n",
       "      <td>5233</td>\n",
       "      <td>5.867739</td>\n",
       "    </tr>\n",
       "    <tr>\n",
       "      <th>3</th>\n",
       "      <td>2015</td>\n",
       "      <td>11</td>\n",
       "      <td>5</td>\n",
       "      <td>5232</td>\n",
       "      <td>5.867035</td>\n",
       "    </tr>\n",
       "    <tr>\n",
       "      <th>4</th>\n",
       "      <td>2015</td>\n",
       "      <td>11</td>\n",
       "      <td>5</td>\n",
       "      <td>5268</td>\n",
       "      <td>5.892364</td>\n",
       "    </tr>\n",
       "    <tr>\n",
       "      <th>...</th>\n",
       "      <td>...</td>\n",
       "      <td>...</td>\n",
       "      <td>...</td>\n",
       "      <td>...</td>\n",
       "      <td>...</td>\n",
       "    </tr>\n",
       "    <tr>\n",
       "      <th>214195</th>\n",
       "      <td>2015</td>\n",
       "      <td>11</td>\n",
       "      <td>45</td>\n",
       "      <td>18454</td>\n",
       "      <td>15.169438</td>\n",
       "    </tr>\n",
       "    <tr>\n",
       "      <th>214196</th>\n",
       "      <td>2015</td>\n",
       "      <td>11</td>\n",
       "      <td>45</td>\n",
       "      <td>16188</td>\n",
       "      <td>13.575108</td>\n",
       "    </tr>\n",
       "    <tr>\n",
       "      <th>214197</th>\n",
       "      <td>2015</td>\n",
       "      <td>11</td>\n",
       "      <td>45</td>\n",
       "      <td>15757</td>\n",
       "      <td>13.271862</td>\n",
       "    </tr>\n",
       "    <tr>\n",
       "      <th>214198</th>\n",
       "      <td>2015</td>\n",
       "      <td>11</td>\n",
       "      <td>45</td>\n",
       "      <td>19648</td>\n",
       "      <td>16.009522</td>\n",
       "    </tr>\n",
       "    <tr>\n",
       "      <th>214199</th>\n",
       "      <td>2015</td>\n",
       "      <td>11</td>\n",
       "      <td>45</td>\n",
       "      <td>969</td>\n",
       "      <td>2.867205</td>\n",
       "    </tr>\n",
       "  </tbody>\n",
       "</table>\n",
       "<p>214200 rows × 5 columns</p>\n",
       "</div>"
      ],
      "text/plain": [
       "        year  month  shop_id  item_id  item_cnt_month\n",
       "0       2015     11        5     5037        5.729836\n",
       "1       2015     11        5     5320        5.928951\n",
       "2       2015     11        5     5233        5.867739\n",
       "3       2015     11        5     5232        5.867035\n",
       "4       2015     11        5     5268        5.892364\n",
       "...      ...    ...      ...      ...             ...\n",
       "214195  2015     11       45    18454       15.169438\n",
       "214196  2015     11       45    16188       13.575108\n",
       "214197  2015     11       45    15757       13.271862\n",
       "214198  2015     11       45    19648       16.009522\n",
       "214199  2015     11       45      969        2.867205\n",
       "\n",
       "[214200 rows x 5 columns]"
      ]
     },
     "execution_count": 26,
     "metadata": {},
     "output_type": "execute_result"
    }
   ],
   "source": [
    "test2 = mms.transform(test)\n",
    "predict = pd.Series(lr.predict(test2))\n",
    "test[\"item_cnt_month\"] = predict\n",
    "# test = pd.DataFrame(mms.inverse_transform(test), columns=test.columns)\n",
    "test"
   ]
  },
  {
   "cell_type": "code",
   "execution_count": 46,
   "metadata": {
    "ExecuteTime": {
     "end_time": "2020-05-08T08:21:08.799872Z",
     "start_time": "2020-05-08T08:21:08.409522Z"
    }
   },
   "outputs": [],
   "source": [
    "submission = copy(test[\"item_cnt_month\"])\n",
    "submission = submission.reset_index()\n",
    "submission.rename(columns={\"index\": \"ID\"}, inplace=True)\n",
    "now = lambda :datetime.datetime.now().strftime(\"%Y%m%d%H%M%S\")\n",
    "submission.to_csv(f\"results/{now()}.csv\", index=False)"
   ]
  },
  {
   "cell_type": "markdown",
   "metadata": {},
   "source": [
    "# Profile\n",
    "## train"
   ]
  },
  {
   "cell_type": "code",
   "execution_count": null,
   "metadata": {
    "ExecuteTime": {
     "end_time": "2020-05-02T07:22:19.578618Z",
     "start_time": "2020-05-02T07:19:36.074764Z"
    }
   },
   "outputs": [],
   "source": [
    "profile = pd_pro.ProfileReport(data[\"train\"])\n",
    "profile.to_file(\"profile/train_profile.html\")"
   ]
  },
  {
   "cell_type": "markdown",
   "metadata": {},
   "source": [
    "[train_profile](profile/train_profile.html)"
   ]
  },
  {
   "cell_type": "markdown",
   "metadata": {},
   "source": [
    "### 外れ値除去\n",
    "#### item_price"
   ]
  },
  {
   "cell_type": "code",
   "execution_count": 12,
   "metadata": {
    "ExecuteTime": {
     "end_time": "2020-05-13T09:47:43.258326Z",
     "start_time": "2020-05-13T09:47:42.701400Z"
    }
   },
   "outputs": [
    {
     "data": {
      "text/plain": [
       "count    2.935849e+06\n",
       "mean     8.908532e+02\n",
       "std      1.729800e+03\n",
       "min     -1.000000e+00\n",
       "25%      2.490000e+02\n",
       "50%      3.990000e+02\n",
       "75%      9.990000e+02\n",
       "max      3.079800e+05\n",
       "Name: item_price, dtype: float64"
      ]
     },
     "execution_count": 12,
     "metadata": {},
     "output_type": "execute_result"
    },
    {
     "data": {
      "image/png": "[encoded data removed]",
      "text/plain": [
       "<Figure size 576x396 with 1 Axes>"
      ]
     },
     "metadata": {},
     "output_type": "display_data"
    }
   ],
   "source": [
    "train = copy(data[\"train\"])\n",
    "train[\"item_price\"].plot(kind=\"hist\")\n",
    "train[\"item_price\"].describe()"
   ]
  },
  {
   "cell_type": "code",
   "execution_count": 13,
   "metadata": {
    "ExecuteTime": {
     "end_time": "2020-05-13T09:47:44.233072Z",
     "start_time": "2020-05-13T09:47:43.694815Z"
    }
   },
   "outputs": [
    {
     "data": {
      "text/plain": [
       "count    2.788632e+06\n",
       "mean     6.408760e+02\n",
       "std      5.958757e+02\n",
       "min     -1.000000e+00\n",
       "25%      2.480000e+02\n",
       "50%      3.990000e+02\n",
       "75%      8.490000e+02\n",
       "max      2.689900e+03\n",
       "Name: item_price, dtype: float64"
      ]
     },
     "execution_count": 13,
     "metadata": {},
     "output_type": "execute_result"
    },
    {
     "data": {
      "image/png": "[encoded data removed]",
      "text/plain": [
       "<Figure size 576x396 with 1 Axes>"
      ]
     },
     "metadata": {},
     "output_type": "display_data"
    }
   ],
   "source": [
    "quant = train[\"item_price\"].quantile(0.95)\n",
    "train = train[train[\"item_price\"] < quant]\n",
    "train[\"item_price\"].plot(kind=\"hist\")\n",
    "train[\"item_price\"].describe()"
   ]
  },
  {
   "cell_type": "markdown",
   "metadata": {},
   "source": [
    "#### item_cnt_day"
   ]
  },
  {
   "cell_type": "code",
   "execution_count": 14,
   "metadata": {
    "ExecuteTime": {
     "end_time": "2020-05-13T09:47:46.080243Z",
     "start_time": "2020-05-13T09:47:45.701521Z"
    }
   },
   "outputs": [
    {
     "data": {
      "text/plain": [
       "count    2.788632e+06\n",
       "mean     1.233619e+00\n",
       "std      2.611853e+00\n",
       "min     -2.200000e+01\n",
       "25%      1.000000e+00\n",
       "50%      1.000000e+00\n",
       "75%      1.000000e+00\n",
       "max      2.169000e+03\n",
       "Name: item_cnt_day, dtype: float64"
      ]
     },
     "execution_count": 14,
     "metadata": {},
     "output_type": "execute_result"
    },
    {
     "data": {
      "image/png": "[encoded data removed]",
      "text/plain": [
       "<Figure size 576x396 with 1 Axes>"
      ]
     },
     "metadata": {},
     "output_type": "display_data"
    }
   ],
   "source": [
    "train[\"item_cnt_day\"].plot(kind=\"hist\")\n",
    "train[\"item_cnt_day\"].describe()"
   ]
  },
  {
   "cell_type": "code",
   "execution_count": 15,
   "metadata": {
    "ExecuteTime": {
     "end_time": "2020-05-13T09:47:46.629134Z",
     "start_time": "2020-05-13T09:47:46.584663Z"
    }
   },
   "outputs": [
    {
     "data": {
      "text/plain": [
       "2909818    2169.0\n",
       "2326930    1000.0\n",
       "2864235     669.0\n",
       "2851091     637.0\n",
       "2608040     624.0\n",
       "2626181     539.0\n",
       "2851073     533.0\n",
       "2048518     512.0\n",
       "2067669     508.0\n",
       "2864260     504.0\n",
       "Name: item_cnt_day, dtype: float64"
      ]
     },
     "execution_count": 15,
     "metadata": {},
     "output_type": "execute_result"
    }
   ],
   "source": [
    "train[\"item_cnt_day\"].nlargest(10)"
   ]
  },
  {
   "cell_type": "code",
   "execution_count": 16,
   "metadata": {
    "ExecuteTime": {
     "end_time": "2020-05-13T09:47:48.849052Z",
     "start_time": "2020-05-13T09:47:48.766557Z"
    }
   },
   "outputs": [],
   "source": [
    "train = train[train[\"item_cnt_day\"] < 500]"
   ]
  },
  {
   "cell_type": "markdown",
   "metadata": {},
   "source": [
    "#### date"
   ]
  },
  {
   "cell_type": "code",
   "execution_count": 17,
   "metadata": {
    "ExecuteTime": {
     "end_time": "2020-05-13T09:48:10.507315Z",
     "start_time": "2020-05-13T09:47:55.664042Z"
    }
   },
   "outputs": [
    {
     "data": {
      "text/html": [
       "<div>\n",
       "<style scoped>\n",
       "    .dataframe tbody tr th:only-of-type {\n",
       "        vertical-align: middle;\n",
       "    }\n",
       "\n",
       "    .dataframe tbody tr th {\n",
       "        vertical-align: top;\n",
       "    }\n",
       "\n",
       "    .dataframe thead th {\n",
       "        text-align: right;\n",
       "    }\n",
       "</style>\n",
       "<table border=\"1\" class=\"dataframe\">\n",
       "  <thead>\n",
       "    <tr style=\"text-align: right;\">\n",
       "      <th></th>\n",
       "      <th>date</th>\n",
       "      <th>date_block_num</th>\n",
       "      <th>shop_id</th>\n",
       "      <th>item_id</th>\n",
       "      <th>item_price</th>\n",
       "      <th>item_cnt_day</th>\n",
       "      <th>year</th>\n",
       "      <th>month</th>\n",
       "    </tr>\n",
       "  </thead>\n",
       "  <tbody>\n",
       "    <tr>\n",
       "      <th>0</th>\n",
       "      <td>2013-02-01</td>\n",
       "      <td>0</td>\n",
       "      <td>59</td>\n",
       "      <td>22154</td>\n",
       "      <td>999.00</td>\n",
       "      <td>1.0</td>\n",
       "      <td>2013</td>\n",
       "      <td>2</td>\n",
       "    </tr>\n",
       "    <tr>\n",
       "      <th>1</th>\n",
       "      <td>2013-03-01</td>\n",
       "      <td>0</td>\n",
       "      <td>25</td>\n",
       "      <td>2552</td>\n",
       "      <td>899.00</td>\n",
       "      <td>1.0</td>\n",
       "      <td>2013</td>\n",
       "      <td>3</td>\n",
       "    </tr>\n",
       "    <tr>\n",
       "      <th>2</th>\n",
       "      <td>2013-05-01</td>\n",
       "      <td>0</td>\n",
       "      <td>25</td>\n",
       "      <td>2552</td>\n",
       "      <td>899.00</td>\n",
       "      <td>-1.0</td>\n",
       "      <td>2013</td>\n",
       "      <td>5</td>\n",
       "    </tr>\n",
       "    <tr>\n",
       "      <th>3</th>\n",
       "      <td>2013-06-01</td>\n",
       "      <td>0</td>\n",
       "      <td>25</td>\n",
       "      <td>2554</td>\n",
       "      <td>1709.05</td>\n",
       "      <td>1.0</td>\n",
       "      <td>2013</td>\n",
       "      <td>6</td>\n",
       "    </tr>\n",
       "    <tr>\n",
       "      <th>4</th>\n",
       "      <td>2013-01-15</td>\n",
       "      <td>0</td>\n",
       "      <td>25</td>\n",
       "      <td>2555</td>\n",
       "      <td>1099.00</td>\n",
       "      <td>1.0</td>\n",
       "      <td>2013</td>\n",
       "      <td>1</td>\n",
       "    </tr>\n",
       "  </tbody>\n",
       "</table>\n",
       "</div>"
      ],
      "text/plain": [
       "        date  date_block_num  shop_id  item_id  item_price  item_cnt_day  \\\n",
       "0 2013-02-01               0       59    22154      999.00           1.0   \n",
       "1 2013-03-01               0       25     2552      899.00           1.0   \n",
       "2 2013-05-01               0       25     2552      899.00          -1.0   \n",
       "3 2013-06-01               0       25     2554     1709.05           1.0   \n",
       "4 2013-01-15               0       25     2555     1099.00           1.0   \n",
       "\n",
       "   year  month  \n",
       "0  2013      2  \n",
       "1  2013      3  \n",
       "2  2013      5  \n",
       "3  2013      6  \n",
       "4  2013      1  "
      ]
     },
     "execution_count": 17,
     "metadata": {},
     "output_type": "execute_result"
    }
   ],
   "source": [
    "train[\"year\"] = train[\"date\"].apply(lambda x: x.year)\n",
    "train[\"month\"] = train[\"date\"].apply(lambda x: x.month)\n",
    "train.head()"
   ]
  },
  {
   "cell_type": "code",
   "execution_count": 19,
   "metadata": {
    "ExecuteTime": {
     "end_time": "2020-05-13T09:51:24.468191Z",
     "start_time": "2020-05-13T09:51:24.444168Z"
    }
   },
   "outputs": [],
   "source": [
    "def month2real(month):\n",
    "    deg = (360/12) * (month-3)\n",
    "    return math.cos(deg)\n",
    "\n",
    "def month2imag(month):\n",
    "    deg = (360/12) * (month-3)\n",
    "    return math.sin(deg)"
   ]
  },
  {
   "cell_type": "code",
   "execution_count": 20,
   "metadata": {
    "ExecuteTime": {
     "end_time": "2020-05-13T09:51:39.975595Z",
     "start_time": "2020-05-13T09:51:39.945375Z"
    }
   },
   "outputs": [
    {
     "data": {
      "text/html": [
       "<div>\n",
       "<style scoped>\n",
       "    .dataframe tbody tr th:only-of-type {\n",
       "        vertical-align: middle;\n",
       "    }\n",
       "\n",
       "    .dataframe tbody tr th {\n",
       "        vertical-align: top;\n",
       "    }\n",
       "\n",
       "    .dataframe thead th {\n",
       "        text-align: right;\n",
       "    }\n",
       "</style>\n",
       "<table border=\"1\" class=\"dataframe\">\n",
       "  <thead>\n",
       "    <tr style=\"text-align: right;\">\n",
       "      <th></th>\n",
       "      <th>month</th>\n",
       "      <th>deg</th>\n",
       "      <th>real</th>\n",
       "      <th>imag</th>\n",
       "    </tr>\n",
       "  </thead>\n",
       "  <tbody>\n",
       "    <tr>\n",
       "      <th>0</th>\n",
       "      <td>1</td>\n",
       "      <td>-60.0</td>\n",
       "      <td>0.325952</td>\n",
       "      <td>0.945386</td>\n",
       "    </tr>\n",
       "    <tr>\n",
       "      <th>1</th>\n",
       "      <td>2</td>\n",
       "      <td>-30.0</td>\n",
       "      <td>-0.921716</td>\n",
       "      <td>0.387865</td>\n",
       "    </tr>\n",
       "    <tr>\n",
       "      <th>2</th>\n",
       "      <td>3</td>\n",
       "      <td>0.0</td>\n",
       "      <td>-0.448074</td>\n",
       "      <td>-0.893997</td>\n",
       "    </tr>\n",
       "    <tr>\n",
       "      <th>3</th>\n",
       "      <td>4</td>\n",
       "      <td>30.0</td>\n",
       "      <td>0.862349</td>\n",
       "      <td>-0.506314</td>\n",
       "    </tr>\n",
       "    <tr>\n",
       "      <th>4</th>\n",
       "      <td>5</td>\n",
       "      <td>60.0</td>\n",
       "      <td>0.562329</td>\n",
       "      <td>0.826913</td>\n",
       "    </tr>\n",
       "    <tr>\n",
       "      <th>5</th>\n",
       "      <td>6</td>\n",
       "      <td>90.0</td>\n",
       "      <td>-0.787844</td>\n",
       "      <td>0.615874</td>\n",
       "    </tr>\n",
       "    <tr>\n",
       "      <th>6</th>\n",
       "      <td>7</td>\n",
       "      <td>120.0</td>\n",
       "      <td>-0.666713</td>\n",
       "      <td>-0.745314</td>\n",
       "    </tr>\n",
       "    <tr>\n",
       "      <th>7</th>\n",
       "      <td>8</td>\n",
       "      <td>150.0</td>\n",
       "      <td>0.699509</td>\n",
       "      <td>-0.714623</td>\n",
       "    </tr>\n",
       "    <tr>\n",
       "      <th>8</th>\n",
       "      <td>9</td>\n",
       "      <td>180.0</td>\n",
       "      <td>0.759394</td>\n",
       "      <td>0.650631</td>\n",
       "    </tr>\n",
       "    <tr>\n",
       "      <th>9</th>\n",
       "      <td>10</td>\n",
       "      <td>210.0</td>\n",
       "      <td>-0.598895</td>\n",
       "      <td>0.800828</td>\n",
       "    </tr>\n",
       "    <tr>\n",
       "      <th>10</th>\n",
       "      <td>11</td>\n",
       "      <td>240.0</td>\n",
       "      <td>-0.838743</td>\n",
       "      <td>-0.544527</td>\n",
       "    </tr>\n",
       "    <tr>\n",
       "      <th>11</th>\n",
       "      <td>12</td>\n",
       "      <td>270.0</td>\n",
       "      <td>0.487767</td>\n",
       "      <td>-0.872974</td>\n",
       "    </tr>\n",
       "  </tbody>\n",
       "</table>\n",
       "</div>"
      ],
      "text/plain": [
       "    month    deg      real      imag\n",
       "0       1  -60.0  0.325952  0.945386\n",
       "1       2  -30.0 -0.921716  0.387865\n",
       "2       3    0.0 -0.448074 -0.893997\n",
       "3       4   30.0  0.862349 -0.506314\n",
       "4       5   60.0  0.562329  0.826913\n",
       "5       6   90.0 -0.787844  0.615874\n",
       "6       7  120.0 -0.666713 -0.745314\n",
       "7       8  150.0  0.699509 -0.714623\n",
       "8       9  180.0  0.759394  0.650631\n",
       "9      10  210.0 -0.598895  0.800828\n",
       "10     11  240.0 -0.838743 -0.544527\n",
       "11     12  270.0  0.487767 -0.872974"
      ]
     },
     "execution_count": 20,
     "metadata": {},
     "output_type": "execute_result"
    }
   ],
   "source": [
    "deg = pd.DataFrame([range(1, 13)], index=[\"month\"]).T\n",
    "deg[\"deg\"] = deg[\"month\"].apply(lambda x: (360/12)*(x-3))\n",
    "deg[\"real\"] = deg[\"deg\"].apply(month2real)\n",
    "deg[\"imag\"] = deg[\"deg\"].apply(month2imag)\n",
    "deg"
   ]
  },
  {
   "cell_type": "markdown",
   "metadata": {},
   "source": [
    "#### item_price"
   ]
  },
  {
   "cell_type": "code",
   "execution_count": 21,
   "metadata": {
    "ExecuteTime": {
     "end_time": "2020-05-13T09:52:59.574437Z",
     "start_time": "2020-05-13T09:52:59.377986Z"
    }
   },
   "outputs": [
    {
     "data": {
      "text/plain": [
       "shop_id  item_id\n",
       "0        30         265.0\n",
       "         31         434.0\n",
       "         32         221.0\n",
       "         33         347.0\n",
       "         35         247.0\n",
       "Name: item_price, dtype: float64"
      ]
     },
     "execution_count": 21,
     "metadata": {},
     "output_type": "execute_result"
    }
   ],
   "source": [
    "item_price = train.groupby([\"shop_id\", \"item_id\"])[\"item_price\"].mean()\n",
    "item_price.head()"
   ]
  },
  {
   "cell_type": "code",
   "execution_count": 22,
   "metadata": {
    "ExecuteTime": {
     "end_time": "2020-05-13T09:53:02.463289Z",
     "start_time": "2020-05-13T09:53:02.425596Z"
    }
   },
   "outputs": [],
   "source": [
    "data[\"train2\"] = copy(train)"
   ]
  },
  {
   "cell_type": "markdown",
   "metadata": {},
   "source": [
    "## items"
   ]
  },
  {
   "cell_type": "code",
   "execution_count": 23,
   "metadata": {
    "ExecuteTime": {
     "end_time": "2020-05-13T09:53:03.402909Z",
     "start_time": "2020-05-13T09:53:03.374481Z"
    }
   },
   "outputs": [
    {
     "data": {
      "text/html": [
       "<div>\n",
       "<style scoped>\n",
       "    .dataframe tbody tr th:only-of-type {\n",
       "        vertical-align: middle;\n",
       "    }\n",
       "\n",
       "    .dataframe tbody tr th {\n",
       "        vertical-align: top;\n",
       "    }\n",
       "\n",
       "    .dataframe thead th {\n",
       "        text-align: right;\n",
       "    }\n",
       "</style>\n",
       "<table border=\"1\" class=\"dataframe\">\n",
       "  <thead>\n",
       "    <tr style=\"text-align: right;\">\n",
       "      <th></th>\n",
       "      <th>item_name</th>\n",
       "      <th>item_id</th>\n",
       "      <th>item_category_id</th>\n",
       "    </tr>\n",
       "  </thead>\n",
       "  <tbody>\n",
       "    <tr>\n",
       "      <th>0</th>\n",
       "      <td>! ВО ВЛАСТИ НАВАЖДЕНИЯ (ПЛАСТ.)         D</td>\n",
       "      <td>0</td>\n",
       "      <td>40</td>\n",
       "    </tr>\n",
       "    <tr>\n",
       "      <th>1</th>\n",
       "      <td>!ABBYY FineReader 12 Professional Edition Full...</td>\n",
       "      <td>1</td>\n",
       "      <td>76</td>\n",
       "    </tr>\n",
       "    <tr>\n",
       "      <th>2</th>\n",
       "      <td>***В ЛУЧАХ СЛАВЫ   (UNV)                    D</td>\n",
       "      <td>2</td>\n",
       "      <td>40</td>\n",
       "    </tr>\n",
       "    <tr>\n",
       "      <th>3</th>\n",
       "      <td>***ГОЛУБАЯ ВОЛНА  (Univ)                      D</td>\n",
       "      <td>3</td>\n",
       "      <td>40</td>\n",
       "    </tr>\n",
       "    <tr>\n",
       "      <th>4</th>\n",
       "      <td>***КОРОБКА (СТЕКЛО)                       D</td>\n",
       "      <td>4</td>\n",
       "      <td>40</td>\n",
       "    </tr>\n",
       "  </tbody>\n",
       "</table>\n",
       "</div>"
      ],
      "text/plain": [
       "                                           item_name  item_id  \\\n",
       "0          ! ВО ВЛАСТИ НАВАЖДЕНИЯ (ПЛАСТ.)         D        0   \n",
       "1  !ABBYY FineReader 12 Professional Edition Full...        1   \n",
       "2      ***В ЛУЧАХ СЛАВЫ   (UNV)                    D        2   \n",
       "3    ***ГОЛУБАЯ ВОЛНА  (Univ)                      D        3   \n",
       "4        ***КОРОБКА (СТЕКЛО)                       D        4   \n",
       "\n",
       "   item_category_id  \n",
       "0                40  \n",
       "1                76  \n",
       "2                40  \n",
       "3                40  \n",
       "4                40  "
      ]
     },
     "execution_count": 23,
     "metadata": {},
     "output_type": "execute_result"
    }
   ],
   "source": [
    "data[\"items\"].head()"
   ]
  },
  {
   "cell_type": "markdown",
   "metadata": {},
   "source": [
    "## shops"
   ]
  },
  {
   "cell_type": "code",
   "execution_count": 40,
   "metadata": {
    "ExecuteTime": {
     "end_time": "2020-05-10T11:23:39.783712Z",
     "start_time": "2020-05-10T11:23:39.722270Z"
    }
   },
   "outputs": [
    {
     "data": {
      "text/html": [
       "<div>\n",
       "<style scoped>\n",
       "    .dataframe tbody tr th:only-of-type {\n",
       "        vertical-align: middle;\n",
       "    }\n",
       "\n",
       "    .dataframe tbody tr th {\n",
       "        vertical-align: top;\n",
       "    }\n",
       "\n",
       "    .dataframe thead th {\n",
       "        text-align: right;\n",
       "    }\n",
       "</style>\n",
       "<table border=\"1\" class=\"dataframe\">\n",
       "  <thead>\n",
       "    <tr style=\"text-align: right;\">\n",
       "      <th></th>\n",
       "      <th>shop_name</th>\n",
       "      <th>shop_id</th>\n",
       "    </tr>\n",
       "  </thead>\n",
       "  <tbody>\n",
       "    <tr>\n",
       "      <th>0</th>\n",
       "      <td>!Якутск Орджоникидзе, 56 фран</td>\n",
       "      <td>0</td>\n",
       "    </tr>\n",
       "    <tr>\n",
       "      <th>1</th>\n",
       "      <td>!Якутск ТЦ \"Центральный\" фран</td>\n",
       "      <td>1</td>\n",
       "    </tr>\n",
       "    <tr>\n",
       "      <th>2</th>\n",
       "      <td>Адыгея ТЦ \"Мега\"</td>\n",
       "      <td>2</td>\n",
       "    </tr>\n",
       "    <tr>\n",
       "      <th>3</th>\n",
       "      <td>Балашиха ТРК \"Октябрь-Киномир\"</td>\n",
       "      <td>3</td>\n",
       "    </tr>\n",
       "    <tr>\n",
       "      <th>4</th>\n",
       "      <td>Волжский ТЦ \"Волга Молл\"</td>\n",
       "      <td>4</td>\n",
       "    </tr>\n",
       "  </tbody>\n",
       "</table>\n",
       "</div>"
      ],
      "text/plain": [
       "                        shop_name  shop_id\n",
       "0   !Якутск Орджоникидзе, 56 фран        0\n",
       "1   !Якутск ТЦ \"Центральный\" фран        1\n",
       "2                Адыгея ТЦ \"Мега\"        2\n",
       "3  Балашиха ТРК \"Октябрь-Киномир\"        3\n",
       "4        Волжский ТЦ \"Волга Молл\"        4"
      ]
     },
     "execution_count": 40,
     "metadata": {},
     "output_type": "execute_result"
    }
   ],
   "source": [
    "data[\"shops\"].head()"
   ]
  },
  {
   "cell_type": "markdown",
   "metadata": {},
   "source": [
    "## item_cat"
   ]
  },
  {
   "cell_type": "code",
   "execution_count": 42,
   "metadata": {
    "ExecuteTime": {
     "end_time": "2020-05-10T11:27:29.479729Z",
     "start_time": "2020-05-10T11:27:29.418481Z"
    }
   },
   "outputs": [
    {
     "data": {
      "text/html": [
       "<div>\n",
       "<style scoped>\n",
       "    .dataframe tbody tr th:only-of-type {\n",
       "        vertical-align: middle;\n",
       "    }\n",
       "\n",
       "    .dataframe tbody tr th {\n",
       "        vertical-align: top;\n",
       "    }\n",
       "\n",
       "    .dataframe thead th {\n",
       "        text-align: right;\n",
       "    }\n",
       "</style>\n",
       "<table border=\"1\" class=\"dataframe\">\n",
       "  <thead>\n",
       "    <tr style=\"text-align: right;\">\n",
       "      <th></th>\n",
       "      <th>item_category_name</th>\n",
       "      <th>item_category_id</th>\n",
       "      <th>item_category_name_ja</th>\n",
       "    </tr>\n",
       "  </thead>\n",
       "  <tbody>\n",
       "    <tr>\n",
       "      <th>0</th>\n",
       "      <td>PC - Гарнитуры/Наушники</td>\n",
       "      <td>0</td>\n",
       "      <td>PC  - ヘッドセット/ヘッドフォン</td>\n",
       "    </tr>\n",
       "    <tr>\n",
       "      <th>1</th>\n",
       "      <td>Аксессуары - PS2</td>\n",
       "      <td>1</td>\n",
       "      <td>アクセサリー -  PS2</td>\n",
       "    </tr>\n",
       "    <tr>\n",
       "      <th>2</th>\n",
       "      <td>Аксессуары - PS3</td>\n",
       "      <td>2</td>\n",
       "      <td>アクセサリー -  PS3</td>\n",
       "    </tr>\n",
       "    <tr>\n",
       "      <th>3</th>\n",
       "      <td>Аксессуары - PS4</td>\n",
       "      <td>3</td>\n",
       "      <td>アクセサリー -  PS4</td>\n",
       "    </tr>\n",
       "    <tr>\n",
       "      <th>4</th>\n",
       "      <td>Аксессуары - PSP</td>\n",
       "      <td>4</td>\n",
       "      <td>アクセサリ -  PSP</td>\n",
       "    </tr>\n",
       "  </tbody>\n",
       "</table>\n",
       "</div>"
      ],
      "text/plain": [
       "        item_category_name  item_category_id item_category_name_ja\n",
       "0  PC - Гарнитуры/Наушники                 0   PC  - ヘッドセット/ヘッドフォン\n",
       "1         Аксессуары - PS2                 1         アクセサリー -  PS2\n",
       "2         Аксессуары - PS3                 2         アクセサリー -  PS3\n",
       "3         Аксессуары - PS4                 3         アクセサリー -  PS4\n",
       "4         Аксессуары - PSP                 4          アクセサリ -  PSP"
      ]
     },
     "execution_count": 42,
     "metadata": {},
     "output_type": "execute_result"
    }
   ],
   "source": [
    "data[\"item_cat\"].head()"
   ]
  },
  {
   "cell_type": "markdown",
   "metadata": {},
   "source": [
    "# 予測\n",
    "## trainデータ"
   ]
  },
  {
   "cell_type": "code",
   "execution_count": 25,
   "metadata": {
    "ExecuteTime": {
     "end_time": "2020-05-13T09:54:03.932323Z",
     "start_time": "2020-05-13T09:54:02.190172Z"
    }
   },
   "outputs": [
    {
     "data": {
      "text/html": [
       "<div>\n",
       "<style scoped>\n",
       "    .dataframe tbody tr th:only-of-type {\n",
       "        vertical-align: middle;\n",
       "    }\n",
       "\n",
       "    .dataframe tbody tr th {\n",
       "        vertical-align: top;\n",
       "    }\n",
       "\n",
       "    .dataframe thead th {\n",
       "        text-align: right;\n",
       "    }\n",
       "</style>\n",
       "<table border=\"1\" class=\"dataframe\">\n",
       "  <thead>\n",
       "    <tr style=\"text-align: right;\">\n",
       "      <th></th>\n",
       "      <th>year</th>\n",
       "      <th>item_id</th>\n",
       "      <th>shop_id</th>\n",
       "      <th>item_cnt_month</th>\n",
       "      <th>item_price</th>\n",
       "      <th>item_category_id</th>\n",
       "      <th>real</th>\n",
       "      <th>imag</th>\n",
       "    </tr>\n",
       "  </thead>\n",
       "  <tbody>\n",
       "    <tr>\n",
       "      <th>0</th>\n",
       "      <td>2013</td>\n",
       "      <td>27</td>\n",
       "      <td>5</td>\n",
       "      <td>1.0</td>\n",
       "      <td>848.0</td>\n",
       "      <td>19</td>\n",
       "      <td>-0.952413</td>\n",
       "      <td>0.304811</td>\n",
       "    </tr>\n",
       "    <tr>\n",
       "      <th>1</th>\n",
       "      <td>2014</td>\n",
       "      <td>27</td>\n",
       "      <td>5</td>\n",
       "      <td>1.0</td>\n",
       "      <td>848.0</td>\n",
       "      <td>19</td>\n",
       "      <td>-0.448074</td>\n",
       "      <td>0.893997</td>\n",
       "    </tr>\n",
       "    <tr>\n",
       "      <th>2</th>\n",
       "      <td>2013</td>\n",
       "      <td>27</td>\n",
       "      <td>10</td>\n",
       "      <td>1.0</td>\n",
       "      <td>1496.5</td>\n",
       "      <td>19</td>\n",
       "      <td>-0.952413</td>\n",
       "      <td>0.304811</td>\n",
       "    </tr>\n",
       "    <tr>\n",
       "      <th>3</th>\n",
       "      <td>2013</td>\n",
       "      <td>27</td>\n",
       "      <td>10</td>\n",
       "      <td>1.0</td>\n",
       "      <td>1496.5</td>\n",
       "      <td>19</td>\n",
       "      <td>-0.883877</td>\n",
       "      <td>0.467719</td>\n",
       "    </tr>\n",
       "    <tr>\n",
       "      <th>4</th>\n",
       "      <td>2013</td>\n",
       "      <td>27</td>\n",
       "      <td>31</td>\n",
       "      <td>1.0</td>\n",
       "      <td>2499.0</td>\n",
       "      <td>19</td>\n",
       "      <td>-0.952413</td>\n",
       "      <td>0.304811</td>\n",
       "    </tr>\n",
       "    <tr>\n",
       "      <th>...</th>\n",
       "      <td>...</td>\n",
       "      <td>...</td>\n",
       "      <td>...</td>\n",
       "      <td>...</td>\n",
       "      <td>...</td>\n",
       "      <td>...</td>\n",
       "      <td>...</td>\n",
       "      <td>...</td>\n",
       "    </tr>\n",
       "    <tr>\n",
       "      <th>1722660</th>\n",
       "      <td>2015</td>\n",
       "      <td>3040</td>\n",
       "      <td>55</td>\n",
       "      <td>1.0</td>\n",
       "      <td>1498.0</td>\n",
       "      <td>31</td>\n",
       "      <td>0.984382</td>\n",
       "      <td>-0.176046</td>\n",
       "    </tr>\n",
       "    <tr>\n",
       "      <th>1722661</th>\n",
       "      <td>2015</td>\n",
       "      <td>7151</td>\n",
       "      <td>22</td>\n",
       "      <td>1.0</td>\n",
       "      <td>58.0</td>\n",
       "      <td>30</td>\n",
       "      <td>0.984382</td>\n",
       "      <td>-0.176046</td>\n",
       "    </tr>\n",
       "    <tr>\n",
       "      <th>1722662</th>\n",
       "      <td>2015</td>\n",
       "      <td>9823</td>\n",
       "      <td>37</td>\n",
       "      <td>1.0</td>\n",
       "      <td>1549.0</td>\n",
       "      <td>58</td>\n",
       "      <td>0.984382</td>\n",
       "      <td>-0.176046</td>\n",
       "    </tr>\n",
       "    <tr>\n",
       "      <th>1722663</th>\n",
       "      <td>2015</td>\n",
       "      <td>16066</td>\n",
       "      <td>25</td>\n",
       "      <td>1.0</td>\n",
       "      <td>248.0</td>\n",
       "      <td>64</td>\n",
       "      <td>0.984382</td>\n",
       "      <td>-0.176046</td>\n",
       "    </tr>\n",
       "    <tr>\n",
       "      <th>1722664</th>\n",
       "      <td>2015</td>\n",
       "      <td>16645</td>\n",
       "      <td>54</td>\n",
       "      <td>1.0</td>\n",
       "      <td>249.0</td>\n",
       "      <td>40</td>\n",
       "      <td>0.984382</td>\n",
       "      <td>-0.176046</td>\n",
       "    </tr>\n",
       "  </tbody>\n",
       "</table>\n",
       "<p>1722665 rows × 8 columns</p>\n",
       "</div>"
      ],
      "text/plain": [
       "         year  item_id  shop_id  item_cnt_month  item_price  item_category_id  \\\n",
       "0        2013       27        5             1.0       848.0                19   \n",
       "1        2014       27        5             1.0       848.0                19   \n",
       "2        2013       27       10             1.0      1496.5                19   \n",
       "3        2013       27       10             1.0      1496.5                19   \n",
       "4        2013       27       31             1.0      2499.0                19   \n",
       "...       ...      ...      ...             ...         ...               ...   \n",
       "1722660  2015     3040       55             1.0      1498.0                31   \n",
       "1722661  2015     7151       22             1.0        58.0                30   \n",
       "1722662  2015     9823       37             1.0      1549.0                58   \n",
       "1722663  2015    16066       25             1.0       248.0                64   \n",
       "1722664  2015    16645       54             1.0       249.0                40   \n",
       "\n",
       "             real      imag  \n",
       "0       -0.952413  0.304811  \n",
       "1       -0.448074  0.893997  \n",
       "2       -0.952413  0.304811  \n",
       "3       -0.883877  0.467719  \n",
       "4       -0.952413  0.304811  \n",
       "...           ...       ...  \n",
       "1722660  0.984382 -0.176046  \n",
       "1722661  0.984382 -0.176046  \n",
       "1722662  0.984382 -0.176046  \n",
       "1722663  0.984382 -0.176046  \n",
       "1722664  0.984382 -0.176046  \n",
       "\n",
       "[1722665 rows x 8 columns]"
      ]
     },
     "execution_count": 25,
     "metadata": {},
     "output_type": "execute_result"
    }
   ],
   "source": [
    "train_gb = data[\"train2\"].groupby([\"year\", \"month\", \"item_id\", \"shop_id\"])[\"item_cnt_day\"].sum()\n",
    "train_gb.index.names = [\"year\", \"month\", \"item_id\", \"shop_id\"]\n",
    "train_gb = train_gb.reset_index().rename(columns={\"item_cnt_day\": \"item_cnt_month\"})\n",
    "train_gb = train_gb.merge(item_price, on=[\"item_id\", \"shop_id\"])\n",
    "items = copy(data[\"items\"]).drop(\"item_name\", axis=1)\n",
    "train_gb = train_gb.merge(items, on=\"item_id\")\n",
    "train_gb[\"real\"] = train_gb[\"month\"].apply(month2real)\n",
    "train_gb[\"imag\"] = train_gb[\"month\"].apply(month2imag)\n",
    "train_gb = train_gb.drop(\"month\", axis=1)\n",
    "train_gb"
   ]
  },
  {
   "cell_type": "markdown",
   "metadata": {},
   "source": [
    "## testデータ"
   ]
  },
  {
   "cell_type": "code",
   "execution_count": 57,
   "metadata": {
    "ExecuteTime": {
     "end_time": "2020-05-13T10:23:03.172997Z",
     "start_time": "2020-05-13T10:23:02.966486Z"
    }
   },
   "outputs": [
    {
     "data": {
      "text/html": [
       "<div>\n",
       "<style scoped>\n",
       "    .dataframe tbody tr th:only-of-type {\n",
       "        vertical-align: middle;\n",
       "    }\n",
       "\n",
       "    .dataframe tbody tr th {\n",
       "        vertical-align: top;\n",
       "    }\n",
       "\n",
       "    .dataframe thead th {\n",
       "        text-align: right;\n",
       "    }\n",
       "</style>\n",
       "<table border=\"1\" class=\"dataframe\">\n",
       "  <thead>\n",
       "    <tr style=\"text-align: right;\">\n",
       "      <th></th>\n",
       "      <th>year</th>\n",
       "      <th>shop_id</th>\n",
       "      <th>item_id</th>\n",
       "      <th>item_category_id</th>\n",
       "      <th>item_price</th>\n",
       "      <th>real</th>\n",
       "      <th>imag</th>\n",
       "    </tr>\n",
       "  </thead>\n",
       "  <tbody>\n",
       "    <tr>\n",
       "      <th>0</th>\n",
       "      <td>2015</td>\n",
       "      <td>5</td>\n",
       "      <td>5037</td>\n",
       "      <td>19</td>\n",
       "      <td>1633.692308</td>\n",
       "      <td>0.325781</td>\n",
       "      <td>0.945445</td>\n",
       "    </tr>\n",
       "    <tr>\n",
       "      <th>1</th>\n",
       "      <td>2015</td>\n",
       "      <td>5</td>\n",
       "      <td>5320</td>\n",
       "      <td>55</td>\n",
       "      <td>NaN</td>\n",
       "      <td>0.325781</td>\n",
       "      <td>0.945445</td>\n",
       "    </tr>\n",
       "    <tr>\n",
       "      <th>2</th>\n",
       "      <td>2015</td>\n",
       "      <td>5</td>\n",
       "      <td>5233</td>\n",
       "      <td>19</td>\n",
       "      <td>865.666667</td>\n",
       "      <td>0.325781</td>\n",
       "      <td>0.945445</td>\n",
       "    </tr>\n",
       "    <tr>\n",
       "      <th>3</th>\n",
       "      <td>2015</td>\n",
       "      <td>5</td>\n",
       "      <td>5232</td>\n",
       "      <td>23</td>\n",
       "      <td>599.000000</td>\n",
       "      <td>0.325781</td>\n",
       "      <td>0.945445</td>\n",
       "    </tr>\n",
       "    <tr>\n",
       "      <th>4</th>\n",
       "      <td>2015</td>\n",
       "      <td>5</td>\n",
       "      <td>5268</td>\n",
       "      <td>20</td>\n",
       "      <td>NaN</td>\n",
       "      <td>0.325781</td>\n",
       "      <td>0.945445</td>\n",
       "    </tr>\n",
       "    <tr>\n",
       "      <th>...</th>\n",
       "      <td>...</td>\n",
       "      <td>...</td>\n",
       "      <td>...</td>\n",
       "      <td>...</td>\n",
       "      <td>...</td>\n",
       "      <td>...</td>\n",
       "      <td>...</td>\n",
       "    </tr>\n",
       "    <tr>\n",
       "      <th>214195</th>\n",
       "      <td>2015</td>\n",
       "      <td>45</td>\n",
       "      <td>18454</td>\n",
       "      <td>55</td>\n",
       "      <td>187.888889</td>\n",
       "      <td>0.325781</td>\n",
       "      <td>0.945445</td>\n",
       "    </tr>\n",
       "    <tr>\n",
       "      <th>214196</th>\n",
       "      <td>2015</td>\n",
       "      <td>45</td>\n",
       "      <td>16188</td>\n",
       "      <td>64</td>\n",
       "      <td>NaN</td>\n",
       "      <td>0.325781</td>\n",
       "      <td>0.945445</td>\n",
       "    </tr>\n",
       "    <tr>\n",
       "      <th>214197</th>\n",
       "      <td>2015</td>\n",
       "      <td>45</td>\n",
       "      <td>15757</td>\n",
       "      <td>55</td>\n",
       "      <td>199.000000</td>\n",
       "      <td>0.325781</td>\n",
       "      <td>0.945445</td>\n",
       "    </tr>\n",
       "    <tr>\n",
       "      <th>214198</th>\n",
       "      <td>2015</td>\n",
       "      <td>45</td>\n",
       "      <td>19648</td>\n",
       "      <td>40</td>\n",
       "      <td>NaN</td>\n",
       "      <td>0.325781</td>\n",
       "      <td>0.945445</td>\n",
       "    </tr>\n",
       "    <tr>\n",
       "      <th>214199</th>\n",
       "      <td>2015</td>\n",
       "      <td>45</td>\n",
       "      <td>969</td>\n",
       "      <td>37</td>\n",
       "      <td>549.000000</td>\n",
       "      <td>0.325781</td>\n",
       "      <td>0.945445</td>\n",
       "    </tr>\n",
       "  </tbody>\n",
       "</table>\n",
       "<p>214200 rows × 7 columns</p>\n",
       "</div>"
      ],
      "text/plain": [
       "        year  shop_id  item_id  item_category_id   item_price      real  \\\n",
       "0       2015        5     5037                19  1633.692308  0.325781   \n",
       "1       2015        5     5320                55          NaN  0.325781   \n",
       "2       2015        5     5233                19   865.666667  0.325781   \n",
       "3       2015        5     5232                23   599.000000  0.325781   \n",
       "4       2015        5     5268                20          NaN  0.325781   \n",
       "...      ...      ...      ...               ...          ...       ...   \n",
       "214195  2015       45    18454                55   187.888889  0.325781   \n",
       "214196  2015       45    16188                64          NaN  0.325781   \n",
       "214197  2015       45    15757                55   199.000000  0.325781   \n",
       "214198  2015       45    19648                40          NaN  0.325781   \n",
       "214199  2015       45      969                37   549.000000  0.325781   \n",
       "\n",
       "            imag  \n",
       "0       0.945445  \n",
       "1       0.945445  \n",
       "2       0.945445  \n",
       "3       0.945445  \n",
       "4       0.945445  \n",
       "...          ...  \n",
       "214195  0.945445  \n",
       "214196  0.945445  \n",
       "214197  0.945445  \n",
       "214198  0.945445  \n",
       "214199  0.945445  \n",
       "\n",
       "[214200 rows x 7 columns]"
      ]
     },
     "execution_count": 57,
     "metadata": {},
     "output_type": "execute_result"
    }
   ],
   "source": [
    "test = copy(data[\"test\"])\n",
    "test.insert(loc=1, column=\"month\", value=11)\n",
    "test.insert(loc=1, column=\"year\", value=2015)\n",
    "test = test.drop(\"ID\", axis=1)\n",
    "test = test.merge(items, on=\"item_id\", how=\"left\").merge(item_price, on=[\"item_id\", \"shop_id\"], how=\"left\")\n",
    "test[\"real\"] = test[\"month\"].apply(month2real)\n",
    "test[\"imag\"] = test[\"month\"].apply(month2imag)\n",
    "test = test.drop(\"month\", axis=1)\n",
    "test"
   ]
  },
  {
   "cell_type": "code",
   "execution_count": 27,
   "metadata": {
    "ExecuteTime": {
     "end_time": "2020-05-13T09:55:03.737437Z",
     "start_time": "2020-05-13T09:55:03.637484Z"
    }
   },
   "outputs": [
    {
     "data": {
      "text/html": [
       "<div>\n",
       "<style scoped>\n",
       "    .dataframe tbody tr th:only-of-type {\n",
       "        vertical-align: middle;\n",
       "    }\n",
       "\n",
       "    .dataframe tbody tr th {\n",
       "        vertical-align: top;\n",
       "    }\n",
       "\n",
       "    .dataframe thead th {\n",
       "        text-align: right;\n",
       "    }\n",
       "</style>\n",
       "<table border=\"1\" class=\"dataframe\">\n",
       "  <thead>\n",
       "    <tr style=\"text-align: right;\">\n",
       "      <th></th>\n",
       "      <th>item_price</th>\n",
       "      <th>item_category_id</th>\n",
       "    </tr>\n",
       "  </thead>\n",
       "  <tbody>\n",
       "    <tr>\n",
       "      <th>0</th>\n",
       "      <td>265.000000</td>\n",
       "      <td>40</td>\n",
       "    </tr>\n",
       "    <tr>\n",
       "      <th>1</th>\n",
       "      <td>265.000000</td>\n",
       "      <td>40</td>\n",
       "    </tr>\n",
       "    <tr>\n",
       "      <th>2</th>\n",
       "      <td>274.000000</td>\n",
       "      <td>40</td>\n",
       "    </tr>\n",
       "    <tr>\n",
       "      <th>3</th>\n",
       "      <td>324.263158</td>\n",
       "      <td>40</td>\n",
       "    </tr>\n",
       "    <tr>\n",
       "      <th>4</th>\n",
       "      <td>399.000000</td>\n",
       "      <td>40</td>\n",
       "    </tr>\n",
       "    <tr>\n",
       "      <th>...</th>\n",
       "      <td>...</td>\n",
       "      <td>...</td>\n",
       "    </tr>\n",
       "    <tr>\n",
       "      <th>408180</th>\n",
       "      <td>1000.000000</td>\n",
       "      <td>36</td>\n",
       "    </tr>\n",
       "    <tr>\n",
       "      <th>408181</th>\n",
       "      <td>2000.000000</td>\n",
       "      <td>36</td>\n",
       "    </tr>\n",
       "    <tr>\n",
       "      <th>408182</th>\n",
       "      <td>250.000000</td>\n",
       "      <td>36</td>\n",
       "    </tr>\n",
       "    <tr>\n",
       "      <th>408183</th>\n",
       "      <td>2500.000000</td>\n",
       "      <td>36</td>\n",
       "    </tr>\n",
       "    <tr>\n",
       "      <th>408184</th>\n",
       "      <td>500.000000</td>\n",
       "      <td>36</td>\n",
       "    </tr>\n",
       "  </tbody>\n",
       "</table>\n",
       "<p>408185 rows × 2 columns</p>\n",
       "</div>"
      ],
      "text/plain": [
       "         item_price  item_category_id\n",
       "0        265.000000                40\n",
       "1        265.000000                40\n",
       "2        274.000000                40\n",
       "3        324.263158                40\n",
       "4        399.000000                40\n",
       "...             ...               ...\n",
       "408180  1000.000000                36\n",
       "408181  2000.000000                36\n",
       "408182   250.000000                36\n",
       "408183  2500.000000                36\n",
       "408184   500.000000                36\n",
       "\n",
       "[408185 rows x 2 columns]"
      ]
     },
     "execution_count": 27,
     "metadata": {},
     "output_type": "execute_result"
    }
   ],
   "source": [
    "item_cat = item_price.reset_index().merge(data[\"items\"], on=\"item_id\").merge(data[\"item_cat\"], on=\"item_category_id\")[[\"item_price\", \"item_category_id\"]]\n",
    "item_cat"
   ]
  },
  {
   "cell_type": "code",
   "execution_count": 82,
   "metadata": {
    "ExecuteTime": {
     "end_time": "2020-05-13T10:32:52.392449Z",
     "start_time": "2020-05-13T10:32:52.283382Z"
    }
   },
   "outputs": [
    {
     "data": {
      "text/html": [
       "<div>\n",
       "<style scoped>\n",
       "    .dataframe tbody tr th:only-of-type {\n",
       "        vertical-align: middle;\n",
       "    }\n",
       "\n",
       "    .dataframe tbody tr th {\n",
       "        vertical-align: top;\n",
       "    }\n",
       "\n",
       "    .dataframe thead th {\n",
       "        text-align: right;\n",
       "    }\n",
       "</style>\n",
       "<table border=\"1\" class=\"dataframe\">\n",
       "  <thead>\n",
       "    <tr style=\"text-align: right;\">\n",
       "      <th></th>\n",
       "      <th>year</th>\n",
       "      <th>shop_id</th>\n",
       "      <th>item_id</th>\n",
       "      <th>item_category_id</th>\n",
       "      <th>item_price</th>\n",
       "      <th>real</th>\n",
       "      <th>imag</th>\n",
       "    </tr>\n",
       "  </thead>\n",
       "  <tbody>\n",
       "    <tr>\n",
       "      <th>0</th>\n",
       "      <td>2015</td>\n",
       "      <td>5</td>\n",
       "      <td>5037</td>\n",
       "      <td>19</td>\n",
       "      <td>1633.692308</td>\n",
       "      <td>0.325781</td>\n",
       "      <td>0.945445</td>\n",
       "    </tr>\n",
       "    <tr>\n",
       "      <th>1</th>\n",
       "      <td>2015</td>\n",
       "      <td>5</td>\n",
       "      <td>5320</td>\n",
       "      <td>55</td>\n",
       "      <td>303.320126</td>\n",
       "      <td>0.325781</td>\n",
       "      <td>0.945445</td>\n",
       "    </tr>\n",
       "    <tr>\n",
       "      <th>2</th>\n",
       "      <td>2015</td>\n",
       "      <td>5</td>\n",
       "      <td>5233</td>\n",
       "      <td>19</td>\n",
       "      <td>865.666667</td>\n",
       "      <td>0.325781</td>\n",
       "      <td>0.945445</td>\n",
       "    </tr>\n",
       "    <tr>\n",
       "      <th>3</th>\n",
       "      <td>2015</td>\n",
       "      <td>5</td>\n",
       "      <td>5232</td>\n",
       "      <td>23</td>\n",
       "      <td>599.000000</td>\n",
       "      <td>0.325781</td>\n",
       "      <td>0.945445</td>\n",
       "    </tr>\n",
       "    <tr>\n",
       "      <th>4</th>\n",
       "      <td>2015</td>\n",
       "      <td>5</td>\n",
       "      <td>5268</td>\n",
       "      <td>20</td>\n",
       "      <td>1821.815254</td>\n",
       "      <td>0.325781</td>\n",
       "      <td>0.945445</td>\n",
       "    </tr>\n",
       "    <tr>\n",
       "      <th>...</th>\n",
       "      <td>...</td>\n",
       "      <td>...</td>\n",
       "      <td>...</td>\n",
       "      <td>...</td>\n",
       "      <td>...</td>\n",
       "      <td>...</td>\n",
       "      <td>...</td>\n",
       "    </tr>\n",
       "    <tr>\n",
       "      <th>214195</th>\n",
       "      <td>2015</td>\n",
       "      <td>45</td>\n",
       "      <td>18454</td>\n",
       "      <td>55</td>\n",
       "      <td>187.888889</td>\n",
       "      <td>0.325781</td>\n",
       "      <td>0.945445</td>\n",
       "    </tr>\n",
       "    <tr>\n",
       "      <th>214196</th>\n",
       "      <td>2015</td>\n",
       "      <td>45</td>\n",
       "      <td>16188</td>\n",
       "      <td>64</td>\n",
       "      <td>1084.449333</td>\n",
       "      <td>0.325781</td>\n",
       "      <td>0.945445</td>\n",
       "    </tr>\n",
       "    <tr>\n",
       "      <th>214197</th>\n",
       "      <td>2015</td>\n",
       "      <td>45</td>\n",
       "      <td>15757</td>\n",
       "      <td>55</td>\n",
       "      <td>199.000000</td>\n",
       "      <td>0.325781</td>\n",
       "      <td>0.945445</td>\n",
       "    </tr>\n",
       "    <tr>\n",
       "      <th>214198</th>\n",
       "      <td>2015</td>\n",
       "      <td>45</td>\n",
       "      <td>19648</td>\n",
       "      <td>40</td>\n",
       "      <td>253.039219</td>\n",
       "      <td>0.325781</td>\n",
       "      <td>0.945445</td>\n",
       "    </tr>\n",
       "    <tr>\n",
       "      <th>214199</th>\n",
       "      <td>2015</td>\n",
       "      <td>45</td>\n",
       "      <td>969</td>\n",
       "      <td>37</td>\n",
       "      <td>549.000000</td>\n",
       "      <td>0.325781</td>\n",
       "      <td>0.945445</td>\n",
       "    </tr>\n",
       "  </tbody>\n",
       "</table>\n",
       "<p>214200 rows × 7 columns</p>\n",
       "</div>"
      ],
      "text/plain": [
       "        year  shop_id  item_id  item_category_id   item_price      real  \\\n",
       "0       2015        5     5037                19  1633.692308  0.325781   \n",
       "1       2015        5     5320                55   303.320126  0.325781   \n",
       "2       2015        5     5233                19   865.666667  0.325781   \n",
       "3       2015        5     5232                23   599.000000  0.325781   \n",
       "4       2015        5     5268                20  1821.815254  0.325781   \n",
       "...      ...      ...      ...               ...          ...       ...   \n",
       "214195  2015       45    18454                55   187.888889  0.325781   \n",
       "214196  2015       45    16188                64  1084.449333  0.325781   \n",
       "214197  2015       45    15757                55   199.000000  0.325781   \n",
       "214198  2015       45    19648                40   253.039219  0.325781   \n",
       "214199  2015       45      969                37   549.000000  0.325781   \n",
       "\n",
       "            imag  \n",
       "0       0.945445  \n",
       "1       0.945445  \n",
       "2       0.945445  \n",
       "3       0.945445  \n",
       "4       0.945445  \n",
       "...          ...  \n",
       "214195  0.945445  \n",
       "214196  0.945445  \n",
       "214197  0.945445  \n",
       "214198  0.945445  \n",
       "214199  0.945445  \n",
       "\n",
       "[214200 rows x 7 columns]"
      ]
     },
     "execution_count": 82,
     "metadata": {},
     "output_type": "execute_result"
    }
   ],
   "source": [
    "def fill_item_price(data):\n",
    "    mean = data[\"item_price\"].mean()\n",
    "    cat_id = data[\"item_category_id\"].unique()[0]\n",
    "    if math.isnan(mean):\n",
    "        mean = item_cat.query(f\"item_category_id=={cat_id}\")[\"item_price\"].mean()\n",
    "    data[\"item_price\"] = data[\"item_price\"].fillna(mean)\n",
    "    return data\n",
    "\n",
    "# test[\"item_price\"] = test.groupby(\"item_category_id\")[\"item_price\"].apply(lambda x: x.fillna(x.mean()))\n",
    "test = test.groupby(\"item_category_id\").apply(fill_item_price)\n",
    "test"
   ]
  },
  {
   "cell_type": "markdown",
   "metadata": {},
   "source": [
    "## 予測"
   ]
  },
  {
   "cell_type": "code",
   "execution_count": 84,
   "metadata": {
    "ExecuteTime": {
     "end_time": "2020-05-13T10:33:07.113515Z",
     "start_time": "2020-05-13T10:33:07.085548Z"
    }
   },
   "outputs": [
    {
     "name": "stdout",
     "output_type": "stream",
     "text": [
      "item_cnt_month ← ['year', 'item_id', 'shop_id', 'item_price', 'item_category_id', 'real', 'imag']\n"
     ]
    }
   ],
   "source": [
    "target_col = \"item_cnt_month\"\n",
    "learn_col = list(train_gb.columns)\n",
    "learn_col.remove(target_col)\n",
    "print(target_col, \"←\", learn_col)"
   ]
  },
  {
   "cell_type": "code",
   "execution_count": 85,
   "metadata": {
    "ExecuteTime": {
     "end_time": "2020-05-13T10:33:07.494564Z",
     "start_time": "2020-05-13T10:33:07.287610Z"
    }
   },
   "outputs": [
    {
     "data": {
      "text/html": [
       "<div>\n",
       "<style scoped>\n",
       "    .dataframe tbody tr th:only-of-type {\n",
       "        vertical-align: middle;\n",
       "    }\n",
       "\n",
       "    .dataframe tbody tr th {\n",
       "        vertical-align: top;\n",
       "    }\n",
       "\n",
       "    .dataframe thead th {\n",
       "        text-align: right;\n",
       "    }\n",
       "</style>\n",
       "<table border=\"1\" class=\"dataframe\">\n",
       "  <thead>\n",
       "    <tr style=\"text-align: right;\">\n",
       "      <th></th>\n",
       "      <th>year</th>\n",
       "      <th>item_id</th>\n",
       "      <th>shop_id</th>\n",
       "      <th>item_price</th>\n",
       "      <th>item_category_id</th>\n",
       "      <th>real</th>\n",
       "      <th>imag</th>\n",
       "    </tr>\n",
       "  </thead>\n",
       "  <tbody>\n",
       "    <tr>\n",
       "      <th>0</th>\n",
       "      <td>0.0</td>\n",
       "      <td>0.001218</td>\n",
       "      <td>0.084746</td>\n",
       "      <td>0.315230</td>\n",
       "      <td>0.228916</td>\n",
       "      <td>0.000000</td>\n",
       "      <td>0.654251</td>\n",
       "    </tr>\n",
       "    <tr>\n",
       "      <th>1</th>\n",
       "      <td>0.5</td>\n",
       "      <td>0.001218</td>\n",
       "      <td>0.084746</td>\n",
       "      <td>0.315230</td>\n",
       "      <td>0.228916</td>\n",
       "      <td>0.258316</td>\n",
       "      <td>0.952413</td>\n",
       "    </tr>\n",
       "    <tr>\n",
       "      <th>2</th>\n",
       "      <td>0.0</td>\n",
       "      <td>0.001218</td>\n",
       "      <td>0.169492</td>\n",
       "      <td>0.556326</td>\n",
       "      <td>0.228916</td>\n",
       "      <td>0.000000</td>\n",
       "      <td>0.654251</td>\n",
       "    </tr>\n",
       "    <tr>\n",
       "      <th>3</th>\n",
       "      <td>0.0</td>\n",
       "      <td>0.001218</td>\n",
       "      <td>0.169492</td>\n",
       "      <td>0.556326</td>\n",
       "      <td>0.228916</td>\n",
       "      <td>0.035103</td>\n",
       "      <td>0.736692</td>\n",
       "    </tr>\n",
       "    <tr>\n",
       "      <th>4</th>\n",
       "      <td>0.0</td>\n",
       "      <td>0.001218</td>\n",
       "      <td>0.525424</td>\n",
       "      <td>0.929028</td>\n",
       "      <td>0.228916</td>\n",
       "      <td>0.000000</td>\n",
       "      <td>0.654251</td>\n",
       "    </tr>\n",
       "  </tbody>\n",
       "</table>\n",
       "</div>"
      ],
      "text/plain": [
       "   year   item_id   shop_id  item_price  item_category_id      real      imag\n",
       "0   0.0  0.001218  0.084746    0.315230          0.228916  0.000000  0.654251\n",
       "1   0.5  0.001218  0.084746    0.315230          0.228916  0.258316  0.952413\n",
       "2   0.0  0.001218  0.169492    0.556326          0.228916  0.000000  0.654251\n",
       "3   0.0  0.001218  0.169492    0.556326          0.228916  0.035103  0.736692\n",
       "4   0.0  0.001218  0.525424    0.929028          0.228916  0.000000  0.654251"
      ]
     },
     "execution_count": 85,
     "metadata": {},
     "output_type": "execute_result"
    }
   ],
   "source": [
    "train_x, train_y = train_gb[learn_col], train_gb[target_col]\n",
    "mms = MinMaxScaler()\n",
    "train_x = pd.DataFrame(mms.fit_transform(train_x), columns=train_x.columns)\n",
    "train_x.head()"
   ]
  },
  {
   "cell_type": "code",
   "execution_count": 86,
   "metadata": {
    "ExecuteTime": {
     "end_time": "2020-05-13T10:33:07.865253Z",
     "start_time": "2020-05-13T10:33:07.613560Z"
    }
   },
   "outputs": [
    {
     "data": {
      "text/plain": [
       "LinearRegression(copy_X=True, fit_intercept=True, n_jobs=None, normalize=False)"
      ]
     },
     "execution_count": 86,
     "metadata": {},
     "output_type": "execute_result"
    }
   ],
   "source": [
    "lr = LinearRegression()\n",
    "lr.fit(train_x, train_y)"
   ]
  },
  {
   "cell_type": "code",
   "execution_count": 87,
   "metadata": {
    "ExecuteTime": {
     "end_time": "2020-05-13T10:33:09.097158Z",
     "start_time": "2020-05-13T10:33:09.045196Z"
    }
   },
   "outputs": [
    {
     "data": {
      "text/html": [
       "<div>\n",
       "<style scoped>\n",
       "    .dataframe tbody tr th:only-of-type {\n",
       "        vertical-align: middle;\n",
       "    }\n",
       "\n",
       "    .dataframe tbody tr th {\n",
       "        vertical-align: top;\n",
       "    }\n",
       "\n",
       "    .dataframe thead th {\n",
       "        text-align: right;\n",
       "    }\n",
       "</style>\n",
       "<table border=\"1\" class=\"dataframe\">\n",
       "  <thead>\n",
       "    <tr style=\"text-align: right;\">\n",
       "      <th></th>\n",
       "      <th>year</th>\n",
       "      <th>shop_id</th>\n",
       "      <th>item_id</th>\n",
       "      <th>item_category_id</th>\n",
       "      <th>item_price</th>\n",
       "      <th>real</th>\n",
       "      <th>imag</th>\n",
       "      <th>item_cnt_month</th>\n",
       "    </tr>\n",
       "  </thead>\n",
       "  <tbody>\n",
       "    <tr>\n",
       "      <th>0</th>\n",
       "      <td>2015</td>\n",
       "      <td>5</td>\n",
       "      <td>5037</td>\n",
       "      <td>19</td>\n",
       "      <td>1633.692308</td>\n",
       "      <td>0.325781</td>\n",
       "      <td>0.945445</td>\n",
       "      <td>13.719196</td>\n",
       "    </tr>\n",
       "    <tr>\n",
       "      <th>1</th>\n",
       "      <td>2015</td>\n",
       "      <td>5</td>\n",
       "      <td>5320</td>\n",
       "      <td>55</td>\n",
       "      <td>303.320126</td>\n",
       "      <td>0.325781</td>\n",
       "      <td>0.945445</td>\n",
       "      <td>11.552512</td>\n",
       "    </tr>\n",
       "    <tr>\n",
       "      <th>2</th>\n",
       "      <td>2015</td>\n",
       "      <td>5</td>\n",
       "      <td>5233</td>\n",
       "      <td>19</td>\n",
       "      <td>865.666667</td>\n",
       "      <td>0.325781</td>\n",
       "      <td>0.945445</td>\n",
       "      <td>12.519115</td>\n",
       "    </tr>\n",
       "    <tr>\n",
       "      <th>3</th>\n",
       "      <td>2015</td>\n",
       "      <td>5</td>\n",
       "      <td>5232</td>\n",
       "      <td>23</td>\n",
       "      <td>599.000000</td>\n",
       "      <td>0.325781</td>\n",
       "      <td>0.945445</td>\n",
       "      <td>11.981202</td>\n",
       "    </tr>\n",
       "    <tr>\n",
       "      <th>4</th>\n",
       "      <td>2015</td>\n",
       "      <td>5</td>\n",
       "      <td>5268</td>\n",
       "      <td>20</td>\n",
       "      <td>1821.815254</td>\n",
       "      <td>0.325781</td>\n",
       "      <td>0.945445</td>\n",
       "      <td>14.508915</td>\n",
       "    </tr>\n",
       "    <tr>\n",
       "      <th>...</th>\n",
       "      <td>...</td>\n",
       "      <td>...</td>\n",
       "      <td>...</td>\n",
       "      <td>...</td>\n",
       "      <td>...</td>\n",
       "      <td>...</td>\n",
       "      <td>...</td>\n",
       "      <td>...</td>\n",
       "    </tr>\n",
       "    <tr>\n",
       "      <th>214195</th>\n",
       "      <td>2015</td>\n",
       "      <td>45</td>\n",
       "      <td>18454</td>\n",
       "      <td>55</td>\n",
       "      <td>187.888889</td>\n",
       "      <td>0.325781</td>\n",
       "      <td>0.945445</td>\n",
       "      <td>34.641143</td>\n",
       "    </tr>\n",
       "    <tr>\n",
       "      <th>214196</th>\n",
       "      <td>2015</td>\n",
       "      <td>45</td>\n",
       "      <td>16188</td>\n",
       "      <td>64</td>\n",
       "      <td>1084.449333</td>\n",
       "      <td>0.325781</td>\n",
       "      <td>0.945445</td>\n",
       "      <td>32.427835</td>\n",
       "    </tr>\n",
       "    <tr>\n",
       "      <th>214197</th>\n",
       "      <td>2015</td>\n",
       "      <td>45</td>\n",
       "      <td>15757</td>\n",
       "      <td>55</td>\n",
       "      <td>199.000000</td>\n",
       "      <td>0.325781</td>\n",
       "      <td>0.945445</td>\n",
       "      <td>29.874624</td>\n",
       "    </tr>\n",
       "    <tr>\n",
       "      <th>214198</th>\n",
       "      <td>2015</td>\n",
       "      <td>45</td>\n",
       "      <td>19648</td>\n",
       "      <td>40</td>\n",
       "      <td>253.039219</td>\n",
       "      <td>0.325781</td>\n",
       "      <td>0.945445</td>\n",
       "      <td>36.887405</td>\n",
       "    </tr>\n",
       "    <tr>\n",
       "      <th>214199</th>\n",
       "      <td>2015</td>\n",
       "      <td>45</td>\n",
       "      <td>969</td>\n",
       "      <td>37</td>\n",
       "      <td>549.000000</td>\n",
       "      <td>0.325781</td>\n",
       "      <td>0.945445</td>\n",
       "      <td>4.315656</td>\n",
       "    </tr>\n",
       "  </tbody>\n",
       "</table>\n",
       "<p>214200 rows × 8 columns</p>\n",
       "</div>"
      ],
      "text/plain": [
       "        year  shop_id  item_id  item_category_id   item_price      real  \\\n",
       "0       2015        5     5037                19  1633.692308  0.325781   \n",
       "1       2015        5     5320                55   303.320126  0.325781   \n",
       "2       2015        5     5233                19   865.666667  0.325781   \n",
       "3       2015        5     5232                23   599.000000  0.325781   \n",
       "4       2015        5     5268                20  1821.815254  0.325781   \n",
       "...      ...      ...      ...               ...          ...       ...   \n",
       "214195  2015       45    18454                55   187.888889  0.325781   \n",
       "214196  2015       45    16188                64  1084.449333  0.325781   \n",
       "214197  2015       45    15757                55   199.000000  0.325781   \n",
       "214198  2015       45    19648                40   253.039219  0.325781   \n",
       "214199  2015       45      969                37   549.000000  0.325781   \n",
       "\n",
       "            imag  item_cnt_month  \n",
       "0       0.945445       13.719196  \n",
       "1       0.945445       11.552512  \n",
       "2       0.945445       12.519115  \n",
       "3       0.945445       11.981202  \n",
       "4       0.945445       14.508915  \n",
       "...          ...             ...  \n",
       "214195  0.945445       34.641143  \n",
       "214196  0.945445       32.427835  \n",
       "214197  0.945445       29.874624  \n",
       "214198  0.945445       36.887405  \n",
       "214199  0.945445        4.315656  \n",
       "\n",
       "[214200 rows x 8 columns]"
      ]
     },
     "execution_count": 87,
     "metadata": {},
     "output_type": "execute_result"
    }
   ],
   "source": [
    "test2 = mms.transform(test)\n",
    "predict = pd.Series(lr.predict(test2))\n",
    "test[\"item_cnt_month\"] = predict\n",
    "# test = pd.DataFrame(mms.inverse_transform(test), columns=test.columns)\n",
    "test"
   ]
  },
  {
   "cell_type": "code",
   "execution_count": 88,
   "metadata": {
    "ExecuteTime": {
     "end_time": "2020-05-13T10:33:11.692105Z",
     "start_time": "2020-05-13T10:33:11.304314Z"
    }
   },
   "outputs": [],
   "source": [
    "submission = copy(test[\"item_cnt_month\"])\n",
    "submission = submission.reset_index()\n",
    "submission.rename(columns={\"index\": \"ID\"}, inplace=True)\n",
    "now = lambda :datetime.datetime.now().strftime(\"%Y%m%d%H%M%S\")\n",
    "submission.to_csv(f\"results/{now()}.csv\", index=False)"
   ]
  },
  {
   "cell_type": "markdown",
   "metadata": {},
   "source": [
    "## xgboost"
   ]
  },
  {
   "cell_type": "code",
   "execution_count": 90,
   "metadata": {
    "ExecuteTime": {
     "end_time": "2020-05-13T10:40:07.408605Z",
     "start_time": "2020-05-13T10:40:07.383095Z"
    }
   },
   "outputs": [],
   "source": [
    "import xgboost as xgb\n",
    "from sklearn.model_selection import GridSearchCV"
   ]
  },
  {
   "cell_type": "code",
   "execution_count": 97,
   "metadata": {
    "ExecuteTime": {
     "end_time": "2020-05-13T10:43:53.663731Z",
     "start_time": "2020-05-13T10:43:53.639777Z"
    }
   },
   "outputs": [],
   "source": [
    "reg = xgb.XGBRegressor()\n",
    "hp = {\n",
    "    'max_depth': [x for x in range(1, 5)], \n",
    "    'min_child_weight': [x for x in range(1, 5)],\n",
    "    'n_estimators': [x for x in range(10, 100, 20)],\n",
    "    'eval_metric': ['rmse'],\n",
    "#     'nthread': [8],\n",
    "    'objective': ['reg:squarederror'],\n",
    "    'tree_method': ['gpu_hist']\n",
    "}"
   ]
  },
  {
   "cell_type": "code",
   "execution_count": 98,
   "metadata": {
    "ExecuteTime": {
     "end_time": "2020-05-13T10:48:48.528663Z",
     "start_time": "2020-05-13T10:43:53.843860Z"
    }
   },
   "outputs": [
    {
     "name": "stdout",
     "output_type": "stream",
     "text": [
      "{'eval_metric': 'rmse', 'max_depth': 2, 'min_child_weight': 1, 'n_estimators': 10, 'objective': 'reg:squarederror', 'tree_method': 'gpu_hist'} -0.02078850040571596\n"
     ]
    }
   ],
   "source": [
    "reg_cv = GridSearchCV(reg, hp, cv=5)\n",
    "train_x, train_y = train_gb[learn_col], train_gb[target_col]\n",
    "reg_cv.fit(train_x, train_y)\n",
    "print(reg_cv.best_params_, reg_cv.best_score_)"
   ]
  },
  {
   "cell_type": "code",
   "execution_count": 99,
   "metadata": {
    "ExecuteTime": {
     "end_time": "2020-05-13T10:48:49.233264Z",
     "start_time": "2020-05-13T10:48:48.655831Z"
    }
   },
   "outputs": [
    {
     "data": {
      "text/plain": [
       "XGBRegressor(base_score=0.5, booster=None, colsample_bylevel=1,\n",
       "             colsample_bynode=1, colsample_bytree=1, eval_metric='rmse',\n",
       "             gamma=0, gpu_id=0, importance_type='gain',\n",
       "             interaction_constraints=None, learning_rate=0.300000012,\n",
       "             max_delta_step=0, max_depth=2, min_child_weight=1, missing=nan,\n",
       "             monotone_constraints=None, n_estimators=10, n_jobs=0,\n",
       "             num_parallel_tree=1, objective='reg:squarederror', random_state=0,\n",
       "             reg_alpha=0, reg_lambda=1, scale_pos_weight=1, subsample=1,\n",
       "             tree_method='gpu_hist', validate_parameters=False, verbosity=None)"
      ]
     },
     "execution_count": 99,
     "metadata": {},
     "output_type": "execute_result"
    }
   ],
   "source": [
    "reg = xgb.XGBRegressor(**reg_cv.best_params_)\n",
    "reg.fit(train_x, train_y)"
   ]
  },
  {
   "cell_type": "code",
   "execution_count": 105,
   "metadata": {
    "ExecuteTime": {
     "end_time": "2020-05-13T10:52:10.268963Z",
     "start_time": "2020-05-13T10:52:10.195578Z"
    }
   },
   "outputs": [
    {
     "data": {
      "text/html": [
       "<div>\n",
       "<style scoped>\n",
       "    .dataframe tbody tr th:only-of-type {\n",
       "        vertical-align: middle;\n",
       "    }\n",
       "\n",
       "    .dataframe tbody tr th {\n",
       "        vertical-align: top;\n",
       "    }\n",
       "\n",
       "    .dataframe thead th {\n",
       "        text-align: right;\n",
       "    }\n",
       "</style>\n",
       "<table border=\"1\" class=\"dataframe\">\n",
       "  <thead>\n",
       "    <tr style=\"text-align: right;\">\n",
       "      <th></th>\n",
       "      <th>year</th>\n",
       "      <th>shop_id</th>\n",
       "      <th>item_id</th>\n",
       "      <th>item_category_id</th>\n",
       "      <th>item_price</th>\n",
       "      <th>real</th>\n",
       "      <th>imag</th>\n",
       "      <th>item_cnt_month</th>\n",
       "    </tr>\n",
       "  </thead>\n",
       "  <tbody>\n",
       "    <tr>\n",
       "      <th>0</th>\n",
       "      <td>2015</td>\n",
       "      <td>5</td>\n",
       "      <td>5037</td>\n",
       "      <td>19</td>\n",
       "      <td>1633.692308</td>\n",
       "      <td>0.325781</td>\n",
       "      <td>0.945445</td>\n",
       "      <td>2.273589</td>\n",
       "    </tr>\n",
       "    <tr>\n",
       "      <th>1</th>\n",
       "      <td>2015</td>\n",
       "      <td>5</td>\n",
       "      <td>5320</td>\n",
       "      <td>55</td>\n",
       "      <td>303.320126</td>\n",
       "      <td>0.325781</td>\n",
       "      <td>0.945445</td>\n",
       "      <td>1.621664</td>\n",
       "    </tr>\n",
       "    <tr>\n",
       "      <th>2</th>\n",
       "      <td>2015</td>\n",
       "      <td>5</td>\n",
       "      <td>5233</td>\n",
       "      <td>19</td>\n",
       "      <td>865.666667</td>\n",
       "      <td>0.325781</td>\n",
       "      <td>0.945445</td>\n",
       "      <td>2.273589</td>\n",
       "    </tr>\n",
       "    <tr>\n",
       "      <th>3</th>\n",
       "      <td>2015</td>\n",
       "      <td>5</td>\n",
       "      <td>5232</td>\n",
       "      <td>23</td>\n",
       "      <td>599.000000</td>\n",
       "      <td>0.325781</td>\n",
       "      <td>0.945445</td>\n",
       "      <td>2.273589</td>\n",
       "    </tr>\n",
       "    <tr>\n",
       "      <th>4</th>\n",
       "      <td>2015</td>\n",
       "      <td>5</td>\n",
       "      <td>5268</td>\n",
       "      <td>20</td>\n",
       "      <td>1821.815254</td>\n",
       "      <td>0.325781</td>\n",
       "      <td>0.945445</td>\n",
       "      <td>2.273589</td>\n",
       "    </tr>\n",
       "    <tr>\n",
       "      <th>...</th>\n",
       "      <td>...</td>\n",
       "      <td>...</td>\n",
       "      <td>...</td>\n",
       "      <td>...</td>\n",
       "      <td>...</td>\n",
       "      <td>...</td>\n",
       "      <td>...</td>\n",
       "      <td>...</td>\n",
       "    </tr>\n",
       "    <tr>\n",
       "      <th>214195</th>\n",
       "      <td>2015</td>\n",
       "      <td>45</td>\n",
       "      <td>18454</td>\n",
       "      <td>55</td>\n",
       "      <td>187.888889</td>\n",
       "      <td>0.325781</td>\n",
       "      <td>0.945445</td>\n",
       "      <td>1.482062</td>\n",
       "    </tr>\n",
       "    <tr>\n",
       "      <th>214196</th>\n",
       "      <td>2015</td>\n",
       "      <td>45</td>\n",
       "      <td>16188</td>\n",
       "      <td>64</td>\n",
       "      <td>1084.449333</td>\n",
       "      <td>0.325781</td>\n",
       "      <td>0.945445</td>\n",
       "      <td>1.621664</td>\n",
       "    </tr>\n",
       "    <tr>\n",
       "      <th>214197</th>\n",
       "      <td>2015</td>\n",
       "      <td>45</td>\n",
       "      <td>15757</td>\n",
       "      <td>55</td>\n",
       "      <td>199.000000</td>\n",
       "      <td>0.325781</td>\n",
       "      <td>0.945445</td>\n",
       "      <td>1.482062</td>\n",
       "    </tr>\n",
       "    <tr>\n",
       "      <th>214198</th>\n",
       "      <td>2015</td>\n",
       "      <td>45</td>\n",
       "      <td>19648</td>\n",
       "      <td>40</td>\n",
       "      <td>253.039219</td>\n",
       "      <td>0.325781</td>\n",
       "      <td>0.945445</td>\n",
       "      <td>1.482062</td>\n",
       "    </tr>\n",
       "    <tr>\n",
       "      <th>214199</th>\n",
       "      <td>2015</td>\n",
       "      <td>45</td>\n",
       "      <td>969</td>\n",
       "      <td>37</td>\n",
       "      <td>549.000000</td>\n",
       "      <td>0.325781</td>\n",
       "      <td>0.945445</td>\n",
       "      <td>1.621664</td>\n",
       "    </tr>\n",
       "  </tbody>\n",
       "</table>\n",
       "<p>214200 rows × 8 columns</p>\n",
       "</div>"
      ],
      "text/plain": [
       "        year  shop_id  item_id  item_category_id   item_price      real  \\\n",
       "0       2015        5     5037                19  1633.692308  0.325781   \n",
       "1       2015        5     5320                55   303.320126  0.325781   \n",
       "2       2015        5     5233                19   865.666667  0.325781   \n",
       "3       2015        5     5232                23   599.000000  0.325781   \n",
       "4       2015        5     5268                20  1821.815254  0.325781   \n",
       "...      ...      ...      ...               ...          ...       ...   \n",
       "214195  2015       45    18454                55   187.888889  0.325781   \n",
       "214196  2015       45    16188                64  1084.449333  0.325781   \n",
       "214197  2015       45    15757                55   199.000000  0.325781   \n",
       "214198  2015       45    19648                40   253.039219  0.325781   \n",
       "214199  2015       45      969                37   549.000000  0.325781   \n",
       "\n",
       "            imag  item_cnt_month  \n",
       "0       0.945445        2.273589  \n",
       "1       0.945445        1.621664  \n",
       "2       0.945445        2.273589  \n",
       "3       0.945445        2.273589  \n",
       "4       0.945445        2.273589  \n",
       "...          ...             ...  \n",
       "214195  0.945445        1.482062  \n",
       "214196  0.945445        1.621664  \n",
       "214197  0.945445        1.482062  \n",
       "214198  0.945445        1.482062  \n",
       "214199  0.945445        1.621664  \n",
       "\n",
       "[214200 rows x 8 columns]"
      ]
     },
     "execution_count": 105,
     "metadata": {},
     "output_type": "execute_result"
    }
   ],
   "source": [
    "predict = pd.Series(reg.predict(test[learn_col]))\n",
    "test[\"item_cnt_month\"] = predict\n",
    "# test = pd.DataFrame(mms.inverse_transform(test), columns=test.columns)\n",
    "test"
   ]
  },
  {
   "cell_type": "code",
   "execution_count": 106,
   "metadata": {
    "ExecuteTime": {
     "end_time": "2020-05-13T10:52:22.984773Z",
     "start_time": "2020-05-13T10:52:22.670801Z"
    }
   },
   "outputs": [],
   "source": [
    "submission = copy(test[\"item_cnt_month\"])\n",
    "submission = submission.reset_index()\n",
    "submission.rename(columns={\"index\": \"ID\"}, inplace=True)\n",
    "now = lambda :datetime.datetime.now().strftime(\"%Y%m%d%H%M%S\")\n",
    "submission.to_csv(f\"results/{now()}.csv\", index=False)"
   ]
  }
 ],
 "metadata": {
  "hide_input": false,
  "kernelspec": {
   "display_name": "Python 3",
   "language": "python",
   "name": "python3"
  },
  "language_info": {
   "codemirror_mode": {
    "name": "ipython",
    "version": 3
   },
   "file_extension": ".py",
   "mimetype": "text/x-python",
   "name": "python",
   "nbconvert_exporter": "python",
   "pygments_lexer": "ipython3",
   "version": "3.6.10"
  },
  "toc": {
   "base_numbering": 1,
   "nav_menu": {},
   "number_sections": true,
   "sideBar": true,
   "skip_h1_title": false,
   "title_cell": "Table of Contents",
   "title_sidebar": "Contents",
   "toc_cell": true,
   "toc_position": {},
   "toc_section_display": true,
   "toc_window_display": false
  },
  "varInspector": {
   "cols": {
    "lenName": 16,
    "lenType": 16,
    "lenVar": 40
   },
   "kernels_config": {
    "python": {
     "delete_cmd_postfix": "",
     "delete_cmd_prefix": "del ",
     "library": "var_list.py",
     "varRefreshCmd": "print(var_dic_list())"
    },
    "r": {
     "delete_cmd_postfix": ") ",
     "delete_cmd_prefix": "rm(",
     "library": "var_list.r",
     "varRefreshCmd": "cat(var_dic_list()) "
    }
   },
   "types_to_exclude": [
    "module",
    "function",
    "builtin_function_or_method",
    "instance",
    "_Feature"
   ],
   "window_display": false
  }
 },
 "nbformat": 4,
 "nbformat_minor": 4
}
